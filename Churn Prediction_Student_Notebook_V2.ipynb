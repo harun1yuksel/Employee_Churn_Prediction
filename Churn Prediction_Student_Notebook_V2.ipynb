{
 "cells": [
  {
   "cell_type": "markdown",
   "metadata": {
    "id": "Mg_ZAS0B2slE"
   },
   "source": [
    "___\n",
    "\n",
    "<p style=\"text-align: center;\"><img src=\"https://docs.google.com/uc?id=1lY0Uj5R04yMY3-ZppPWxqCr5pvBLYPnV\" class=\"img-fluid\" alt=\"CLRSWY\"></p>\n",
    "\n",
    "___"
   ]
  },
  {
   "cell_type": "markdown",
   "metadata": {
    "id": "8EjVhtzq2slH"
   },
   "source": [
    "# WELCOME!"
   ]
  },
  {
   "cell_type": "markdown",
   "metadata": {
    "id": "JqV3cXW-2slL"
   },
   "source": [
    "Welcome to \"***Employee Churn Analysis Project***\". This is the second project of Capstone Project Series, which you will be able to build your own classification models for a variety of business settings. \n",
    "\n",
    "Also you will research what is Employee Churn?, How it is different from customer churn, Exploratory data analysis and visualization of employee churn dataset using ***matplotlib*** and ***seaborn***, model building and evaluation using python ***scikit-learn*** and ***Tensorflow-Keras*** packages. \n",
    "\n",
    "You will be able to implement classification techniques in Python. Using Scikit-Learn allowing you to successfully make predictions with Distance Based, Bagging, Boosting algorithms for this project. On the other hand, for Deep Learning you will use Tensorflow-Keras. \n",
    "\n",
    "At the end of the project, you will have the opportunity to deploy your model using *Streamlit*.\n",
    "\n",
    "Before diving into the project, please take a look at the determines and project structure.\n",
    "\n",
    "- NOTE: This project assumes that you already know the basics of coding in Python and are familiar with model deployement as well as the theory behind Distance Based, Bagging, Boosting algorithms, and Confusion Matrices. You can try more models and methods beside these to improve your model metrics.\n",
    "\n"
   ]
  },
  {
   "cell_type": "markdown",
   "metadata": {
    "id": "4oRnVXpS2slN"
   },
   "source": [
    "# #Determines\n",
    "In this project you have HR data of a company. A study is requested from you to predict which employee will churn by using this data.\n",
    "\n",
    "The HR dataset has 14,999 samples. In the given dataset, you have two types of employee one who stayed and another who left the company.\n",
    "\n",
    "You can describe 10 attributes in detail as:\n",
    "- ***satisfaction_level:*** It is employee satisfaction point, which ranges from 0-1.\n",
    "- ***last_evaluation:*** It is evaluated performance by the employer, which also ranges from 0-1.\n",
    "- ***number_projects:*** How many of projects assigned to an employee?\n",
    "- ***average_monthly_hours:*** How many hours in averega an employee worked in a month?\n",
    "- **time_spent_company:** time_spent_company means employee experience. The number of years spent by an employee in the company.\n",
    "- ***work_accident:*** Whether an employee has had a work accident or not.\n",
    "- ***promotion_last_5years:*** Whether an employee has had a promotion in the last 5 years or not.\n",
    "- ***Departments:*** Employee's working department/division.\n",
    "- ***Salary:*** Salary level of the employee such as low, medium and high.\n",
    "- ***left:*** Whether the employee has left the company or not.\n",
    "\n",
    "First of all, to observe the structure of the data, outliers, missing values and features that affect the target variable, you must use exploratory data analysis and data visualization techniques. \n",
    "\n",
    "Then, you must perform data pre-processing operations such as ***Scaling*** and ***Encoding*** to increase the accuracy score of Gradient Descent Based or Distance-Based algorithms. you are asked to perform ***Cluster Analysis*** based on the information you obtain during exploratory data analysis and data visualization processes. \n",
    "\n",
    "The purpose of clustering analysis is to cluster data with similar characteristics. You are asked to use the ***K-means*** algorithm to make cluster analysis. However, you must provide the K-means algorithm with information about the number of clusters it will make predictions. Also, the data you apply to the K-means algorithm must be scaled. In order to find the optimal number of clusters, you are asked to use the ***Elbow method***. Briefly, try to predict the set to which individuals are related by using K-means and evaluate the estimation results.\n",
    "\n",
    "Once the data is ready to be applied to the model, you must ***split the data into train and test***. Then build a model to predict whether employees will churn or not. Train your models with your train set, test the success of your model with your test set. \n",
    "\n",
    "Try to make your predictions by using the algorithms ***Logistic Regression***, ***Random Forest Classifier***, ***XGBoost Classifier***, ***ANN***. You can use the related modules of the ***scikit-learn*** and ***Tensorflow-Keras*** library. You can use scikit-learn ***Classification Metrics*** module for accuracy calculation. You can use the ***Yellowbrick*** module for model selection and visualization.\n",
    "\n",
    "In the final step, you will deploy your model using Streamlit tool.\n",
    "\n"
   ]
  },
  {
   "cell_type": "markdown",
   "metadata": {
    "id": "97xzRLNj2slO"
   },
   "source": [
    "# #Tasks\n",
    "\n",
    "#### 1. Exploratory Data Analysis\n",
    "- Importing Modules\n",
    "- Loading Dataset\n",
    "- Data Insigts\n",
    "\n",
    "#### 2. Data Visualization\n",
    "- Employees Left\n",
    "- Determine Number of Projects\n",
    "- Determine Time Spent in Company\n",
    "- Subplots of Features\n",
    "\n",
    "#### 3. Data Pre-Processing\n",
    "- Scaling\n",
    "- Label Encoding\n",
    "\n",
    "#### 4. Cluster Analysis\n",
    "- Find the optimal number of clusters (k) using the elbow method for for K-means.\n",
    "- Determine the clusters by using K-Means then Evaluate predicted results.\n",
    "\n",
    "#### 5. Model Building\n",
    "- Split Data as Train and Test set\n",
    "- Built Distance Based and Evaluate Model Performance and Predict Test Data\n",
    "- Built Random Forest Classifier and Evaluate Model Performance and Predict Test Data\n",
    "- Built XGBoost Classifier, Evaluate Model Performance and Predict Test Data\n",
    "- Built ANN Classifier, Evaluate Model Performance and Predict Test Data\n",
    "\n",
    "#### 6. Model Deployement\n",
    "\n",
    "- Save and Export the Best Model\n",
    "- Save and Export Variables\n",
    "- Deploy best model via Streamlit"
   ]
  },
  {
   "cell_type": "markdown",
   "metadata": {
    "id": "WLTGi7q02slP"
   },
   "source": [
    "## 1. Exploratory Data Analysis\n",
    "\n",
    "Exploratory Data Analysis is an initial process of analysis, in which you can summarize characteristics of data such as pattern, trends, outliers, and hypothesis testing using descriptive statistics and visualization."
   ]
  },
  {
   "cell_type": "markdown",
   "metadata": {
    "id": "TyrWBiyM2sld"
   },
   "source": [
    "### Importing Modules"
   ]
  },
  {
   "cell_type": "code",
   "execution_count": 1,
   "metadata": {
    "execution": {
     "iopub.execute_input": "2022-11-03T12:40:31.383173Z",
     "iopub.status.busy": "2022-11-03T12:40:31.382828Z",
     "iopub.status.idle": "2022-11-03T12:40:32.931532Z",
     "shell.execute_reply": "2022-11-03T12:40:32.930980Z",
     "shell.execute_reply.started": "2022-11-03T12:40:31.383112Z"
    },
    "id": "TI19sGjE2slf"
   },
   "outputs": [
    {
     "data": {
      "text/html": [
       "        <script type=\"text/javascript\">\n",
       "        window.PlotlyConfig = {MathJaxConfig: 'local'};\n",
       "        if (window.MathJax && window.MathJax.Hub && window.MathJax.Hub.Config) {window.MathJax.Hub.Config({SVG: {font: \"STIX-Web\"}});}\n",
       "        if (typeof require !== 'undefined') {\n",
       "        require.undef(\"plotly\");\n",
       "        requirejs.config({\n",
       "            paths: {\n",
       "                'plotly': ['https://cdn.plot.ly/plotly-2.12.1.min']\n",
       "            }\n",
       "        });\n",
       "        require(['plotly'], function(Plotly) {\n",
       "            window._Plotly = Plotly;\n",
       "        });\n",
       "        }\n",
       "        </script>\n",
       "        "
      ]
     },
     "metadata": {},
     "output_type": "display_data"
    }
   ],
   "source": [
    "# Import Libraries\n",
    "import numpy as np\n",
    "import pandas as pd \n",
    "import seaborn as sns\n",
    "import matplotlib.pyplot as plt\n",
    "import scipy.stats as stats\n",
    "%matplotlib inline\n",
    "import statsmodels.api as sm\n",
    "import statsmodels.formula.api as smf\n",
    "import missingno as msno \n",
    "\n",
    "from sklearn.compose import make_column_transformer\n",
    "\n",
    "# Scaling\n",
    "from sklearn.preprocessing import scale \n",
    "from sklearn.preprocessing import StandardScaler\n",
    "from sklearn.preprocessing import PolynomialFeatures \n",
    "from sklearn.preprocessing import OneHotEncoder\n",
    "from sklearn.preprocessing import PowerTransformer \n",
    "from sklearn.preprocessing import MinMaxScaler\n",
    "from sklearn.preprocessing import RobustScaler\n",
    "\n",
    "\n",
    "# Importing plotly and cufflinks in offline mode\n",
    "import plotly.express as px\n",
    "import cufflinks as cf\n",
    "import plotly.offline\n",
    "cf.go_offline()\n",
    "cf.set_config_file(offline=False, world_readable=True)\n",
    "\n",
    "# Ignore Warnings\n",
    "import warnings\n",
    "warnings.filterwarnings(\"ignore\")\n",
    "warnings.warn(\"this will not show\")\n",
    "\n",
    "# Figure & Display options\n",
    "plt.rcParams[\"figure.figsize\"] = (10,6)\n",
    "pd.set_option('max_colwidth',200)\n",
    "pd.set_option('display.max_rows', 1000)\n",
    "pd.set_option('display.max_columns', 200)\n",
    "pd.set_option('display.float_format', lambda x: '%.3f' % x)\n",
    "\n",
    "sns.set_style(\"whitegrid\")\n",
    "\n",
    "# !pip install termcolor\n",
    "import colorama\n",
    "from colorama import Fore, Style  # makes strings colored\n",
    "from termcolor import colored\n",
    "\n",
    "import ipywidgets\n",
    "from ipywidgets import interact"
   ]
  },
  {
   "cell_type": "code",
   "execution_count": 2,
   "metadata": {
    "execution": {
     "iopub.execute_input": "2022-11-03T12:40:32.932357Z",
     "iopub.status.busy": "2022-11-03T12:40:32.932188Z",
     "iopub.status.idle": "2022-11-03T12:40:34.078482Z",
     "shell.execute_reply": "2022-11-03T12:40:34.077984Z",
     "shell.execute_reply.started": "2022-11-03T12:40:32.932337Z"
    }
   },
   "outputs": [
    {
     "name": "stderr",
     "output_type": "stream",
     "text": [
      "2022-11-03 15:40:32.936325: I tensorflow/core/platform/cpu_feature_guard.cc:193] This TensorFlow binary is optimized with oneAPI Deep Neural Network Library (oneDNN) to use the following CPU instructions in performance-critical operations:  AVX2 FMA\n",
      "To enable them in other operations, rebuild TensorFlow with the appropriate compiler flags.\n",
      "2022-11-03 15:40:33.075819: W tensorflow/stream_executor/platform/default/dso_loader.cc:64] Could not load dynamic library 'libcudart.so.11.0'; dlerror: libcudart.so.11.0: cannot open shared object file: No such file or directory\n",
      "2022-11-03 15:40:33.075835: I tensorflow/stream_executor/cuda/cudart_stub.cc:29] Ignore above cudart dlerror if you do not have a GPU set up on your machine.\n",
      "2022-11-03 15:40:33.097425: E tensorflow/stream_executor/cuda/cuda_blas.cc:2981] Unable to register cuBLAS factory: Attempting to register factory for plugin cuBLAS when one has already been registered\n",
      "2022-11-03 15:40:33.560198: W tensorflow/stream_executor/platform/default/dso_loader.cc:64] Could not load dynamic library 'libnvinfer.so.7'; dlerror: libnvinfer.so.7: cannot open shared object file: No such file or directory\n",
      "2022-11-03 15:40:33.560311: W tensorflow/stream_executor/platform/default/dso_loader.cc:64] Could not load dynamic library 'libnvinfer_plugin.so.7'; dlerror: libnvinfer_plugin.so.7: cannot open shared object file: No such file or directory\n",
      "2022-11-03 15:40:33.560320: W tensorflow/compiler/tf2tensorrt/utils/py_utils.cc:38] TF-TRT Warning: Cannot dlopen some TensorRT libraries. If you would like to use Nvidia GPU with TensorRT, please make sure the missing libraries mentioned above are installed properly.\n"
     ]
    }
   ],
   "source": [
    "import tensorflow as tf\n",
    "from tensorflow.keras.models import Sequential\n",
    "from tensorflow.keras.layers import Dense, Activation, Dropout\n",
    "from tensorflow.keras.callbacks import EarlyStopping\n",
    "from tensorflow.keras.optimizers import Adam\n",
    "from sklearn.metrics import classification_report, confusion_matrix\n",
    "from sklearn.metrics import roc_auc_score, roc_curve, precision_recall_curve, average_precision_score\n",
    "from sklearn.model_selection import cross_val_score, cross_validate\n",
    "from sklearn.model_selection import GridSearchCV"
   ]
  },
  {
   "cell_type": "markdown",
   "metadata": {
    "id": "vS9n2J9-2sln"
   },
   "source": [
    "### Loading Dataset\n",
    "\n",
    "Let's first load the required HR dataset using pandas's \"read_csv\" function."
   ]
  },
  {
   "cell_type": "code",
   "execution_count": 3,
   "metadata": {
    "execution": {
     "iopub.execute_input": "2022-11-03T12:40:34.080025Z",
     "iopub.status.busy": "2022-11-03T12:40:34.079875Z",
     "iopub.status.idle": "2022-11-03T12:40:34.102744Z",
     "shell.execute_reply": "2022-11-03T12:40:34.102089Z",
     "shell.execute_reply.started": "2022-11-03T12:40:34.080012Z"
    },
    "id": "rvS39ktq2slt"
   },
   "outputs": [],
   "source": [
    "df = pd.read_csv(\"HR_Dataset.csv\")"
   ]
  },
  {
   "cell_type": "markdown",
   "metadata": {
    "id": "wc8t0m9u2sl2"
   },
   "source": [
    "### Data Insights\n",
    "\n",
    "In the given dataset, you have two types of employee one who stayed and another who left the company. So, you can divide data into two groups and compare their characteristics. Moreover, you can find the average of both the groups using groupby() and mean() function."
   ]
  },
  {
   "cell_type": "code",
   "execution_count": 4,
   "metadata": {
    "execution": {
     "iopub.execute_input": "2022-11-03T12:40:34.103837Z",
     "iopub.status.busy": "2022-11-03T12:40:34.103611Z",
     "iopub.status.idle": "2022-11-03T12:40:34.123197Z",
     "shell.execute_reply": "2022-11-03T12:40:34.122478Z",
     "shell.execute_reply.started": "2022-11-03T12:40:34.103795Z"
    },
    "id": "6Qd_Mxw-2sl9"
   },
   "outputs": [
    {
     "name": "stdout",
     "output_type": "stream",
     "text": [
      "<class 'pandas.core.frame.DataFrame'>\n",
      "RangeIndex: 14999 entries, 0 to 14998\n",
      "Data columns (total 10 columns):\n",
      " #   Column                 Non-Null Count  Dtype  \n",
      "---  ------                 --------------  -----  \n",
      " 0   satisfaction_level     14999 non-null  float64\n",
      " 1   last_evaluation        14999 non-null  float64\n",
      " 2   number_project         14999 non-null  int64  \n",
      " 3   average_montly_hours   14999 non-null  int64  \n",
      " 4   time_spend_company     14999 non-null  int64  \n",
      " 5   Work_accident          14999 non-null  int64  \n",
      " 6   left                   14999 non-null  int64  \n",
      " 7   promotion_last_5years  14999 non-null  int64  \n",
      " 8   Departments            14999 non-null  object \n",
      " 9   salary                 14999 non-null  object \n",
      "dtypes: float64(2), int64(6), object(2)\n",
      "memory usage: 1.1+ MB\n"
     ]
    }
   ],
   "source": [
    "df.info()"
   ]
  },
  {
   "cell_type": "code",
   "execution_count": 5,
   "metadata": {
    "execution": {
     "iopub.execute_input": "2022-11-03T12:40:34.124573Z",
     "iopub.status.busy": "2022-11-03T12:40:34.124199Z",
     "iopub.status.idle": "2022-11-03T12:40:34.131233Z",
     "shell.execute_reply": "2022-11-03T12:40:34.130569Z",
     "shell.execute_reply.started": "2022-11-03T12:40:34.124550Z"
    }
   },
   "outputs": [
    {
     "data": {
      "text/plain": [
       "Index(['satisfaction_level', 'last_evaluation', 'number_project',\n",
       "       'average_montly_hours', 'time_spend_company', 'Work_accident', 'left',\n",
       "       'promotion_last_5years', 'Departments ', 'salary'],\n",
       "      dtype='object')"
      ]
     },
     "execution_count": 5,
     "metadata": {},
     "output_type": "execute_result"
    }
   ],
   "source": [
    "df.columns"
   ]
  },
  {
   "cell_type": "code",
   "execution_count": 6,
   "metadata": {
    "execution": {
     "iopub.execute_input": "2022-11-03T12:40:34.132621Z",
     "iopub.status.busy": "2022-11-03T12:40:34.132335Z",
     "iopub.status.idle": "2022-11-03T12:40:34.138570Z",
     "shell.execute_reply": "2022-11-03T12:40:34.137585Z",
     "shell.execute_reply.started": "2022-11-03T12:40:34.132575Z"
    },
    "tags": []
   },
   "outputs": [],
   "source": [
    "df.rename(columns={'Departments ': \"departments\" }, inplace=True)"
   ]
  },
  {
   "cell_type": "code",
   "execution_count": 7,
   "metadata": {
    "execution": {
     "iopub.execute_input": "2022-11-03T12:40:34.140200Z",
     "iopub.status.busy": "2022-11-03T12:40:34.139867Z",
     "iopub.status.idle": "2022-11-03T12:40:34.154383Z",
     "shell.execute_reply": "2022-11-03T12:40:34.153812Z",
     "shell.execute_reply.started": "2022-11-03T12:40:34.140174Z"
    }
   },
   "outputs": [
    {
     "data": {
      "text/html": [
       "<div>\n",
       "<style scoped>\n",
       "    .dataframe tbody tr th:only-of-type {\n",
       "        vertical-align: middle;\n",
       "    }\n",
       "\n",
       "    .dataframe tbody tr th {\n",
       "        vertical-align: top;\n",
       "    }\n",
       "\n",
       "    .dataframe thead th {\n",
       "        text-align: right;\n",
       "    }\n",
       "</style>\n",
       "<table border=\"1\" class=\"dataframe\">\n",
       "  <thead>\n",
       "    <tr style=\"text-align: right;\">\n",
       "      <th></th>\n",
       "      <th>satisfaction_level</th>\n",
       "      <th>last_evaluation</th>\n",
       "      <th>number_project</th>\n",
       "      <th>average_montly_hours</th>\n",
       "      <th>time_spend_company</th>\n",
       "      <th>Work_accident</th>\n",
       "      <th>left</th>\n",
       "      <th>promotion_last_5years</th>\n",
       "      <th>departments</th>\n",
       "      <th>salary</th>\n",
       "    </tr>\n",
       "  </thead>\n",
       "  <tbody>\n",
       "    <tr>\n",
       "      <th>0</th>\n",
       "      <td>0.380</td>\n",
       "      <td>0.530</td>\n",
       "      <td>2</td>\n",
       "      <td>157</td>\n",
       "      <td>3</td>\n",
       "      <td>0</td>\n",
       "      <td>1</td>\n",
       "      <td>0</td>\n",
       "      <td>sales</td>\n",
       "      <td>low</td>\n",
       "    </tr>\n",
       "    <tr>\n",
       "      <th>1</th>\n",
       "      <td>0.800</td>\n",
       "      <td>0.860</td>\n",
       "      <td>5</td>\n",
       "      <td>262</td>\n",
       "      <td>6</td>\n",
       "      <td>0</td>\n",
       "      <td>1</td>\n",
       "      <td>0</td>\n",
       "      <td>sales</td>\n",
       "      <td>medium</td>\n",
       "    </tr>\n",
       "    <tr>\n",
       "      <th>2</th>\n",
       "      <td>0.110</td>\n",
       "      <td>0.880</td>\n",
       "      <td>7</td>\n",
       "      <td>272</td>\n",
       "      <td>4</td>\n",
       "      <td>0</td>\n",
       "      <td>1</td>\n",
       "      <td>0</td>\n",
       "      <td>sales</td>\n",
       "      <td>medium</td>\n",
       "    </tr>\n",
       "    <tr>\n",
       "      <th>3</th>\n",
       "      <td>0.720</td>\n",
       "      <td>0.870</td>\n",
       "      <td>5</td>\n",
       "      <td>223</td>\n",
       "      <td>5</td>\n",
       "      <td>0</td>\n",
       "      <td>1</td>\n",
       "      <td>0</td>\n",
       "      <td>sales</td>\n",
       "      <td>low</td>\n",
       "    </tr>\n",
       "    <tr>\n",
       "      <th>4</th>\n",
       "      <td>0.370</td>\n",
       "      <td>0.520</td>\n",
       "      <td>2</td>\n",
       "      <td>159</td>\n",
       "      <td>3</td>\n",
       "      <td>0</td>\n",
       "      <td>1</td>\n",
       "      <td>0</td>\n",
       "      <td>sales</td>\n",
       "      <td>low</td>\n",
       "    </tr>\n",
       "  </tbody>\n",
       "</table>\n",
       "</div>"
      ],
      "text/plain": [
       "   satisfaction_level  last_evaluation  number_project  average_montly_hours  \\\n",
       "0               0.380            0.530               2                   157   \n",
       "1               0.800            0.860               5                   262   \n",
       "2               0.110            0.880               7                   272   \n",
       "3               0.720            0.870               5                   223   \n",
       "4               0.370            0.520               2                   159   \n",
       "\n",
       "   time_spend_company  Work_accident  left  promotion_last_5years departments  \\\n",
       "0                   3              0     1                      0       sales   \n",
       "1                   6              0     1                      0       sales   \n",
       "2                   4              0     1                      0       sales   \n",
       "3                   5              0     1                      0       sales   \n",
       "4                   3              0     1                      0       sales   \n",
       "\n",
       "   salary  \n",
       "0     low  \n",
       "1  medium  \n",
       "2  medium  \n",
       "3     low  \n",
       "4     low  "
      ]
     },
     "execution_count": 7,
     "metadata": {},
     "output_type": "execute_result"
    }
   ],
   "source": [
    "df.head()"
   ]
  },
  {
   "cell_type": "code",
   "execution_count": 8,
   "metadata": {
    "execution": {
     "iopub.execute_input": "2022-11-03T12:40:34.155521Z",
     "iopub.status.busy": "2022-11-03T12:40:34.155315Z",
     "iopub.status.idle": "2022-11-03T12:40:34.162224Z",
     "shell.execute_reply": "2022-11-03T12:40:34.161498Z",
     "shell.execute_reply.started": "2022-11-03T12:40:34.155498Z"
    }
   },
   "outputs": [],
   "source": [
    "from colorama import Fore, Back, Style\n",
    "\n",
    "def first_looking(col):\n",
    "    \"\"\"give only column name as \"col_name\" not as df[\"col_name\"]\"\"\"\n",
    "    print(Back.BLACK + Fore.YELLOW, \"Column name    : \", col, Style.RESET_ALL)\n",
    "    print(Fore.RED + \"--------------------------------\", Style.RESET_ALL)\n",
    "    print(\"per_of_nulls   : \", \"%\", round(df[col].isnull().sum()*100 / df.shape[0], 2))\n",
    "    print(\"num_of_nulls   : \", df[col].isnull().sum())\n",
    "    print(\"num_of_uniques : \", df[col].nunique())\n",
    "    print(Fore.RED + \"--------------------------------\", Style.RESET_ALL)\n",
    "    print(\"Value counts\")\n",
    "    print(df[col].value_counts(dropna = False))\n",
    "    print(Fore.RED + \"--------------------------------\", Style.RESET_ALL)\n",
    "    print(\"Descriptive statistics\")\n",
    "    print(df[col].describe())\n",
    "    print()\n",
    "    print()"
   ]
  },
  {
   "cell_type": "code",
   "execution_count": 48,
   "metadata": {
    "execution": {
     "iopub.execute_input": "2022-11-03T13:19:58.384735Z",
     "iopub.status.busy": "2022-11-03T13:19:58.383871Z",
     "iopub.status.idle": "2022-11-03T13:19:58.390101Z",
     "shell.execute_reply": "2022-11-03T13:19:58.389754Z",
     "shell.execute_reply.started": "2022-11-03T13:19:58.384628Z"
    }
   },
   "outputs": [
    {
     "data": {
      "text/plain": [
       "Index(['satisfaction_level', 'last_evaluation', 'number_project',\n",
       "       'average_montly_hours', 'time_spend_company', 'Work_accident', 'left',\n",
       "       'promotion_last_5years', 'departments', 'salary'],\n",
       "      dtype='object')"
      ]
     },
     "execution_count": 48,
     "metadata": {},
     "output_type": "execute_result"
    }
   ],
   "source": [
    "df.columns"
   ]
  },
  {
   "cell_type": "code",
   "execution_count": 49,
   "metadata": {
    "execution": {
     "iopub.execute_input": "2022-11-03T13:20:29.993337Z",
     "iopub.status.busy": "2022-11-03T13:20:29.993071Z",
     "iopub.status.idle": "2022-11-03T13:20:29.999424Z",
     "shell.execute_reply": "2022-11-03T13:20:29.998726Z",
     "shell.execute_reply.started": "2022-11-03T13:20:29.993306Z"
    },
    "tags": []
   },
   "outputs": [
    {
     "data": {
      "text/plain": [
       "array(['low', 'medium', 'high'], dtype=object)"
      ]
     },
     "execution_count": 49,
     "metadata": {},
     "output_type": "execute_result"
    }
   ],
   "source": [
    "df[\"salary\"].unique()"
   ]
  },
  {
   "cell_type": "code",
   "execution_count": 9,
   "metadata": {
    "execution": {
     "iopub.execute_input": "2022-11-03T12:40:34.163630Z",
     "iopub.status.busy": "2022-11-03T12:40:34.163407Z",
     "iopub.status.idle": "2022-11-03T12:40:34.200372Z",
     "shell.execute_reply": "2022-11-03T12:40:34.199753Z",
     "shell.execute_reply.started": "2022-11-03T12:40:34.163609Z"
    },
    "scrolled": true,
    "tags": []
   },
   "outputs": [
    {
     "name": "stdout",
     "output_type": "stream",
     "text": [
      "\u001b[40m\u001b[33m Column name    :  satisfaction_level \u001b[0m\n",
      "\u001b[31m-------------------------------- \u001b[0m\n",
      "per_of_nulls   :  % 0.0\n",
      "num_of_nulls   :  0\n",
      "num_of_uniques :  92\n",
      "\u001b[31m-------------------------------- \u001b[0m\n",
      "Value counts\n",
      "0.100    358\n",
      "0.110    335\n",
      "0.740    257\n",
      "0.770    252\n",
      "0.840    247\n",
      "0.730    246\n",
      "0.780    241\n",
      "0.370    241\n",
      "0.820    241\n",
      "0.890    237\n",
      "0.830    234\n",
      "0.760    234\n",
      "0.720    230\n",
      "0.500    229\n",
      "0.660    228\n",
      "0.750    226\n",
      "0.870    225\n",
      "0.910    224\n",
      "0.430    224\n",
      "0.800    222\n",
      "0.810    220\n",
      "0.900    220\n",
      "0.590    219\n",
      "0.790    217\n",
      "0.440    211\n",
      "0.570    210\n",
      "0.400    209\n",
      "0.630    209\n",
      "0.490    209\n",
      "0.690    209\n",
      "0.610    208\n",
      "0.850    207\n",
      "0.700    205\n",
      "0.450    203\n",
      "0.960    203\n",
      "0.860    200\n",
      "0.650    199\n",
      "0.920    198\n",
      "0.520    196\n",
      "0.090    195\n",
      "0.600    193\n",
      "0.380    189\n",
      "0.620    188\n",
      "0.510    187\n",
      "0.880    187\n",
      "0.640    187\n",
      "0.560    187\n",
      "0.540    185\n",
      "0.980    183\n",
      "0.580    182\n",
      "0.950    181\n",
      "0.550    179\n",
      "0.530    179\n",
      "0.670    177\n",
      "0.970    176\n",
      "0.390    175\n",
      "0.990    172\n",
      "0.710    171\n",
      "0.410    171\n",
      "0.930    169\n",
      "0.940    167\n",
      "0.680    162\n",
      "0.420    155\n",
      "0.480    149\n",
      "0.360    139\n",
      "1.000    111\n",
      "0.460     95\n",
      "0.240     80\n",
      "0.160     79\n",
      "0.150     76\n",
      "0.190     74\n",
      "0.140     73\n",
      "0.170     72\n",
      "0.200     69\n",
      "0.210     67\n",
      "0.180     63\n",
      "0.220     60\n",
      "0.310     59\n",
      "0.230     54\n",
      "0.130     54\n",
      "0.320     50\n",
      "0.340     48\n",
      "0.470     42\n",
      "0.300     39\n",
      "0.290     38\n",
      "0.350     37\n",
      "0.330     36\n",
      "0.250     34\n",
      "0.280     31\n",
      "0.270     30\n",
      "0.260     30\n",
      "0.120     30\n",
      "Name: satisfaction_level, dtype: int64\n",
      "\u001b[31m-------------------------------- \u001b[0m\n",
      "Descriptive statistics\n",
      "count   14999.000\n",
      "mean        0.613\n",
      "std         0.249\n",
      "min         0.090\n",
      "25%         0.440\n",
      "50%         0.640\n",
      "75%         0.820\n",
      "max         1.000\n",
      "Name: satisfaction_level, dtype: float64\n",
      "\n",
      "\n",
      "\u001b[40m\u001b[33m Column name    :  last_evaluation \u001b[0m\n",
      "\u001b[31m-------------------------------- \u001b[0m\n",
      "per_of_nulls   :  % 0.0\n",
      "num_of_nulls   :  0\n",
      "num_of_uniques :  65\n",
      "\u001b[31m-------------------------------- \u001b[0m\n",
      "Value counts\n",
      "0.550    358\n",
      "0.500    353\n",
      "0.540    350\n",
      "0.510    345\n",
      "0.570    333\n",
      "0.490    332\n",
      "0.870    326\n",
      "0.530    324\n",
      "0.560    322\n",
      "0.850    316\n",
      "0.900    313\n",
      "0.520    309\n",
      "0.890    296\n",
      "0.840    294\n",
      "0.480    292\n",
      "0.910    287\n",
      "1.000    283\n",
      "0.970    276\n",
      "0.860    273\n",
      "0.930    269\n",
      "0.830    269\n",
      "0.920    269\n",
      "0.940    263\n",
      "0.980    263\n",
      "0.770    263\n",
      "0.740    260\n",
      "0.950    258\n",
      "0.990    258\n",
      "0.810    255\n",
      "0.590    255\n",
      "0.800    251\n",
      "0.960    249\n",
      "0.670    245\n",
      "0.790    241\n",
      "0.750    238\n",
      "0.820    237\n",
      "0.630    236\n",
      "0.640    235\n",
      "0.880    235\n",
      "0.610    234\n",
      "0.620    233\n",
      "0.580    225\n",
      "0.730    223\n",
      "0.680    222\n",
      "0.660    222\n",
      "0.600    221\n",
      "0.760    216\n",
      "0.780    214\n",
      "0.700    213\n",
      "0.460    211\n",
      "0.720    211\n",
      "0.650    201\n",
      "0.710    196\n",
      "0.690    193\n",
      "0.470    173\n",
      "0.450    115\n",
      "0.410     59\n",
      "0.400     57\n",
      "0.420     56\n",
      "0.370     55\n",
      "0.390     52\n",
      "0.430     50\n",
      "0.380     50\n",
      "0.440     44\n",
      "0.360     22\n",
      "Name: last_evaluation, dtype: int64\n",
      "\u001b[31m-------------------------------- \u001b[0m\n",
      "Descriptive statistics\n",
      "count   14999.000\n",
      "mean        0.716\n",
      "std         0.171\n",
      "min         0.360\n",
      "25%         0.560\n",
      "50%         0.720\n",
      "75%         0.870\n",
      "max         1.000\n",
      "Name: last_evaluation, dtype: float64\n",
      "\n",
      "\n",
      "\u001b[40m\u001b[33m Column name    :  number_project \u001b[0m\n",
      "\u001b[31m-------------------------------- \u001b[0m\n",
      "per_of_nulls   :  % 0.0\n",
      "num_of_nulls   :  0\n",
      "num_of_uniques :  6\n",
      "\u001b[31m-------------------------------- \u001b[0m\n",
      "Value counts\n",
      "4    4365\n",
      "3    4055\n",
      "5    2761\n",
      "2    2388\n",
      "6    1174\n",
      "7     256\n",
      "Name: number_project, dtype: int64\n",
      "\u001b[31m-------------------------------- \u001b[0m\n",
      "Descriptive statistics\n",
      "count   14999.000\n",
      "mean        3.803\n",
      "std         1.233\n",
      "min         2.000\n",
      "25%         3.000\n",
      "50%         4.000\n",
      "75%         5.000\n",
      "max         7.000\n",
      "Name: number_project, dtype: float64\n",
      "\n",
      "\n",
      "\u001b[40m\u001b[33m Column name    :  average_montly_hours \u001b[0m\n",
      "\u001b[31m-------------------------------- \u001b[0m\n",
      "per_of_nulls   :  % 0.0\n",
      "num_of_nulls   :  0\n",
      "num_of_uniques :  215\n",
      "\u001b[31m-------------------------------- \u001b[0m\n",
      "Value counts\n",
      "135    153\n",
      "156    153\n",
      "149    148\n",
      "151    147\n",
      "160    136\n",
      "145    134\n",
      "140    129\n",
      "143    127\n",
      "157    126\n",
      "257    126\n",
      "155    125\n",
      "260    124\n",
      "245    124\n",
      "158    124\n",
      "148    123\n",
      "137    122\n",
      "153    122\n",
      "154    121\n",
      "159    121\n",
      "139    120\n",
      "147    118\n",
      "141    115\n",
      "255    115\n",
      "134    114\n",
      "254    113\n",
      "243    112\n",
      "224    112\n",
      "152    112\n",
      "142    112\n",
      "264    111\n",
      "146    110\n",
      "258    110\n",
      "263    110\n",
      "150    108\n",
      "238    108\n",
      "247    108\n",
      "266    105\n",
      "136    104\n",
      "271    104\n",
      "144    102\n",
      "269    102\n",
      "246    102\n",
      "233    102\n",
      "261    102\n",
      "253    101\n",
      "132    100\n",
      "250    100\n",
      "244     98\n",
      "242     98\n",
      "251     98\n",
      "259     98\n",
      "232     97\n",
      "239     96\n",
      "192     96\n",
      "162     96\n",
      "173     96\n",
      "225     95\n",
      "274     94\n",
      "167     94\n",
      "268     93\n",
      "229     93\n",
      "185     93\n",
      "240     93\n",
      "270     93\n",
      "226     93\n",
      "223     93\n",
      "249     93\n",
      "168     92\n",
      "265     91\n",
      "237     90\n",
      "273     88\n",
      "138     88\n",
      "267     88\n",
      "180     88\n",
      "161     87\n",
      "256     87\n",
      "217     87\n",
      "133     87\n",
      "262     86\n",
      "198     86\n",
      "252     86\n",
      "201     86\n",
      "272     86\n",
      "169     86\n",
      "248     86\n",
      "178     85\n",
      "241     85\n",
      "219     85\n",
      "189     85\n",
      "183     84\n",
      "222     84\n",
      "171     83\n",
      "236     83\n",
      "206     83\n",
      "275     82\n",
      "221     81\n",
      "177     81\n",
      "176     81\n",
      "184     80\n",
      "191     80\n",
      "202     80\n",
      "211     79\n",
      "196     79\n",
      "218     79\n",
      "199     79\n",
      "164     78\n",
      "181     78\n",
      "174     78\n",
      "214     78\n",
      "165     78\n",
      "227     77\n",
      "231     77\n",
      "170     76\n",
      "186     76\n",
      "175     76\n",
      "216     76\n",
      "235     76\n",
      "228     76\n",
      "190     75\n",
      "182     75\n",
      "234     74\n",
      "205     73\n",
      "188     73\n",
      "166     73\n",
      "163     73\n",
      "179     73\n",
      "212     72\n",
      "210     72\n",
      "203     72\n",
      "127     72\n",
      "209     72\n",
      "208     72\n",
      "207     71\n",
      "194     71\n",
      "213     71\n",
      "172     70\n",
      "197     70\n",
      "131     69\n",
      "204     68\n",
      "215     68\n",
      "187     68\n",
      "193     67\n",
      "195     67\n",
      "128     65\n",
      "220     64\n",
      "129     63\n",
      "130     59\n",
      "230     59\n",
      "200     58\n",
      "286     50\n",
      "282     36\n",
      "278     35\n",
      "281     34\n",
      "285     33\n",
      "279     32\n",
      "287     30\n",
      "276     30\n",
      "280     29\n",
      "113     29\n",
      "104     28\n",
      "111     26\n",
      "126     25\n",
      "283     25\n",
      "121     24\n",
      "301     24\n",
      "284     24\n",
      "98      23\n",
      "296     21\n",
      "277     21\n",
      "123     20\n",
      "308     20\n",
      "106     19\n",
      "100     19\n",
      "289     19\n",
      "125     19\n",
      "108     18\n",
      "117     18\n",
      "109     18\n",
      "310     18\n",
      "305     18\n",
      "306     18\n",
      "102     17\n",
      "105     17\n",
      "304     17\n",
      "103     17\n",
      "291     17\n",
      "294     16\n",
      "101     16\n",
      "309     16\n",
      "292     15\n",
      "114     15\n",
      "290     15\n",
      "307     14\n",
      "115     14\n",
      "97      14\n",
      "124     13\n",
      "298     13\n",
      "293     13\n",
      "110     12\n",
      "295     12\n",
      "118     12\n",
      "300     11\n",
      "99      11\n",
      "122     11\n",
      "112     10\n",
      "107     10\n",
      "120     10\n",
      "116     10\n",
      "119     10\n",
      "302      8\n",
      "297      7\n",
      "288      6\n",
      "299      6\n",
      "96       6\n",
      "303      6\n",
      "Name: average_montly_hours, dtype: int64\n",
      "\u001b[31m-------------------------------- \u001b[0m\n",
      "Descriptive statistics\n",
      "count   14999.000\n",
      "mean      201.050\n",
      "std        49.943\n",
      "min        96.000\n",
      "25%       156.000\n",
      "50%       200.000\n",
      "75%       245.000\n",
      "max       310.000\n",
      "Name: average_montly_hours, dtype: float64\n",
      "\n",
      "\n",
      "\u001b[40m\u001b[33m Column name    :  time_spend_company \u001b[0m\n",
      "\u001b[31m-------------------------------- \u001b[0m\n",
      "per_of_nulls   :  % 0.0\n",
      "num_of_nulls   :  0\n",
      "num_of_uniques :  8\n",
      "\u001b[31m-------------------------------- \u001b[0m\n",
      "Value counts\n",
      "3     6443\n",
      "2     3244\n",
      "4     2557\n",
      "5     1473\n",
      "6      718\n",
      "10     214\n",
      "7      188\n",
      "8      162\n",
      "Name: time_spend_company, dtype: int64\n",
      "\u001b[31m-------------------------------- \u001b[0m\n",
      "Descriptive statistics\n",
      "count   14999.000\n",
      "mean        3.498\n",
      "std         1.460\n",
      "min         2.000\n",
      "25%         3.000\n",
      "50%         3.000\n",
      "75%         4.000\n",
      "max        10.000\n",
      "Name: time_spend_company, dtype: float64\n",
      "\n",
      "\n",
      "\u001b[40m\u001b[33m Column name    :  Work_accident \u001b[0m\n",
      "\u001b[31m-------------------------------- \u001b[0m\n",
      "per_of_nulls   :  % 0.0\n",
      "num_of_nulls   :  0\n",
      "num_of_uniques :  2\n",
      "\u001b[31m-------------------------------- \u001b[0m\n",
      "Value counts\n",
      "0    12830\n",
      "1     2169\n",
      "Name: Work_accident, dtype: int64\n",
      "\u001b[31m-------------------------------- \u001b[0m\n",
      "Descriptive statistics\n",
      "count   14999.000\n",
      "mean        0.145\n",
      "std         0.352\n",
      "min         0.000\n",
      "25%         0.000\n",
      "50%         0.000\n",
      "75%         0.000\n",
      "max         1.000\n",
      "Name: Work_accident, dtype: float64\n",
      "\n",
      "\n",
      "\u001b[40m\u001b[33m Column name    :  left \u001b[0m\n",
      "\u001b[31m-------------------------------- \u001b[0m\n",
      "per_of_nulls   :  % 0.0\n",
      "num_of_nulls   :  0\n",
      "num_of_uniques :  2\n",
      "\u001b[31m-------------------------------- \u001b[0m\n",
      "Value counts\n",
      "0    11428\n",
      "1     3571\n",
      "Name: left, dtype: int64\n",
      "\u001b[31m-------------------------------- \u001b[0m\n",
      "Descriptive statistics\n",
      "count   14999.000\n",
      "mean        0.238\n",
      "std         0.426\n",
      "min         0.000\n",
      "25%         0.000\n",
      "50%         0.000\n",
      "75%         0.000\n",
      "max         1.000\n",
      "Name: left, dtype: float64\n",
      "\n",
      "\n",
      "\u001b[40m\u001b[33m Column name    :  promotion_last_5years \u001b[0m\n",
      "\u001b[31m-------------------------------- \u001b[0m\n",
      "per_of_nulls   :  % 0.0\n",
      "num_of_nulls   :  0\n",
      "num_of_uniques :  2\n",
      "\u001b[31m-------------------------------- \u001b[0m\n",
      "Value counts\n",
      "0    14680\n",
      "1      319\n",
      "Name: promotion_last_5years, dtype: int64\n",
      "\u001b[31m-------------------------------- \u001b[0m\n",
      "Descriptive statistics\n",
      "count   14999.000\n",
      "mean        0.021\n",
      "std         0.144\n",
      "min         0.000\n",
      "25%         0.000\n",
      "50%         0.000\n",
      "75%         0.000\n",
      "max         1.000\n",
      "Name: promotion_last_5years, dtype: float64\n",
      "\n",
      "\n",
      "\u001b[40m\u001b[33m Column name    :  departments \u001b[0m\n",
      "\u001b[31m-------------------------------- \u001b[0m\n",
      "per_of_nulls   :  % 0.0\n",
      "num_of_nulls   :  0\n",
      "num_of_uniques :  10\n",
      "\u001b[31m-------------------------------- \u001b[0m\n",
      "Value counts\n",
      "sales          4140\n",
      "technical      2720\n",
      "support        2229\n",
      "IT             1227\n",
      "product_mng     902\n",
      "marketing       858\n",
      "RandD           787\n",
      "accounting      767\n",
      "hr              739\n",
      "management      630\n",
      "Name: departments, dtype: int64\n",
      "\u001b[31m-------------------------------- \u001b[0m\n",
      "Descriptive statistics\n",
      "count     14999\n",
      "unique       10\n",
      "top       sales\n",
      "freq       4140\n",
      "Name: departments, dtype: object\n",
      "\n",
      "\n",
      "\u001b[40m\u001b[33m Column name    :  salary \u001b[0m\n",
      "\u001b[31m-------------------------------- \u001b[0m\n",
      "per_of_nulls   :  % 0.0\n",
      "num_of_nulls   :  0\n",
      "num_of_uniques :  3\n",
      "\u001b[31m-------------------------------- \u001b[0m\n",
      "Value counts\n",
      "low       7316\n",
      "medium    6446\n",
      "high      1237\n",
      "Name: salary, dtype: int64\n",
      "\u001b[31m-------------------------------- \u001b[0m\n",
      "Descriptive statistics\n",
      "count     14999\n",
      "unique        3\n",
      "top         low\n",
      "freq       7316\n",
      "Name: salary, dtype: object\n",
      "\n",
      "\n"
     ]
    }
   ],
   "source": [
    "for col in df.columns:\n",
    "    first_looking(col)"
   ]
  },
  {
   "cell_type": "markdown",
   "metadata": {
    "id": "0PsO9Iew2smG"
   },
   "source": [
    "## 2. Data Visualization\n",
    "\n",
    "You can search for answers to the following questions using data visualization methods. Based on these responses, you can develop comments about the factors that cause churn.\n",
    "- How does the promotion status affect employee churn?\n",
    "- How does years of experience affect employee churn?\n",
    "- How does workload affect employee churn?\n",
    "- How does the salary level affect employee churn?\n",
    "\n",
    "*Feel free to add more visualization"
   ]
  },
  {
   "cell_type": "code",
   "execution_count": 10,
   "metadata": {
    "execution": {
     "iopub.execute_input": "2022-11-03T12:40:34.201683Z",
     "iopub.status.busy": "2022-11-03T12:40:34.201311Z",
     "iopub.status.idle": "2022-11-03T12:40:34.208470Z",
     "shell.execute_reply": "2022-11-03T12:40:34.207575Z",
     "shell.execute_reply.started": "2022-11-03T12:40:34.201656Z"
    }
   },
   "outputs": [
    {
     "data": {
      "text/plain": [
       "Index(['satisfaction_level', 'last_evaluation', 'number_project',\n",
       "       'average_montly_hours', 'time_spend_company', 'Work_accident', 'left',\n",
       "       'promotion_last_5years', 'departments', 'salary'],\n",
       "      dtype='object')"
      ]
     },
     "execution_count": 10,
     "metadata": {},
     "output_type": "execute_result"
    }
   ],
   "source": [
    "df.columns"
   ]
  },
  {
   "cell_type": "code",
   "execution_count": null,
   "metadata": {},
   "outputs": [],
   "source": []
  },
  {
   "cell_type": "markdown",
   "metadata": {
    "id": "qRQhFwtq2smI"
   },
   "source": [
    "### Employees Left\n",
    "\n",
    "Let's check how many employees were left?\n",
    "Here, you can plot a bar graph using Matplotlib. The bar graph is suitable for showing discrete variable counts."
   ]
  },
  {
   "cell_type": "code",
   "execution_count": 11,
   "metadata": {
    "execution": {
     "iopub.execute_input": "2022-11-03T12:40:34.210496Z",
     "iopub.status.busy": "2022-11-03T12:40:34.210204Z",
     "iopub.status.idle": "2022-11-03T12:40:34.302050Z",
     "shell.execute_reply": "2022-11-03T12:40:34.301303Z",
     "shell.execute_reply.started": "2022-11-03T12:40:34.210461Z"
    },
    "tags": []
   },
   "outputs": [
    {
     "data": {
      "image/png": "[encoded data removed]",
      "text/plain": [
       "<Figure size 400x400 with 1 Axes>"
      ]
     },
     "metadata": {},
     "output_type": "display_data"
    }
   ],
   "source": [
    "plt.figure(figsize=(4,4))\n",
    "plt.pie(df.left.value_counts(normalize=True), labels=[\"on the job\", \"left the job\"],shadow=True, explode=(0, 0.1), autopct='%.0f%%')\n",
    "plt.show;"
   ]
  },
  {
   "cell_type": "markdown",
   "metadata": {
    "id": "Vn6NHSZE2smY"
   },
   "source": [
    "### Number of Projects\n",
    "\n",
    "Similarly, you can also plot a bar graph to count the number of employees deployed on how many projects?"
   ]
  },
  {
   "cell_type": "markdown",
   "metadata": {
    "id": "VEbtBv3q2smq"
   },
   "source": [
    "### Subplots of Features\n",
    "\n",
    "You can use the methods of the matplotlib."
   ]
  },
  {
   "cell_type": "code",
   "execution_count": 12,
   "metadata": {
    "execution": {
     "iopub.execute_input": "2022-11-03T12:40:34.305265Z",
     "iopub.status.busy": "2022-11-03T12:40:34.305125Z",
     "iopub.status.idle": "2022-11-03T12:40:35.159314Z",
     "shell.execute_reply": "2022-11-03T12:40:35.158842Z",
     "shell.execute_reply.started": "2022-11-03T12:40:34.305249Z"
    },
    "tags": []
   },
   "outputs": [
    {
     "data": {
      "image/png": "[encoded data removed]",
      "text/plain": [
       "<Figure size 1400x800 with 5 Axes>"
      ]
     },
     "metadata": {},
     "output_type": "display_data"
    }
   ],
   "source": [
    "df_num = df.select_dtypes(\"number\").drop(columns=[\"Work_accident\", \"promotion_last_5years\" ])\n",
    "\n",
    "\n",
    "plt.figure(figsize=(14,8))\n",
    "i =1\n",
    "\n",
    "for col in df_num.drop(columns = \"left\").columns:\n",
    "    plt.subplot(2,3,i)\n",
    "    ax = sns.barplot(data=df_num, x=\"left\", y=col)\n",
    "    ax.bar_label(ax.containers[0], fmt=\"mean    %.2f\")\n",
    "    i +=1;\n",
    "    \n",
    "plt.subplots_adjust(top=0.93, wspace=0.4, hspace=0.4)"
   ]
  },
  {
   "cell_type": "code",
   "execution_count": 13,
   "metadata": {
    "execution": {
     "iopub.execute_input": "2022-11-03T12:40:35.160215Z",
     "iopub.status.busy": "2022-11-03T12:40:35.160079Z",
     "iopub.status.idle": "2022-11-03T12:40:35.357123Z",
     "shell.execute_reply": "2022-11-03T12:40:35.356566Z",
     "shell.execute_reply.started": "2022-11-03T12:40:35.160202Z"
    },
    "tags": []
   },
   "outputs": [
    {
     "data": {
      "image/png": "[encoded data removed]",
      "text/plain": [
       "<Figure size 1000x400 with 2 Axes>"
      ]
     },
     "metadata": {},
     "output_type": "display_data"
    }
   ],
   "source": [
    "plt.figure(figsize=(10,4))\n",
    "\n",
    "plt.subplot(121)\n",
    "ax = sns.countplot(data=df, hue='left', x='promotion_last_5years');\n",
    "for p in ax.containers:\n",
    "    ax.bar_label(p)\n",
    "    \n",
    "df_per = df.groupby(\"promotion_last_5years\")[[\"left\"]].value_counts(normalize=True).reset_index().sort_values(by=0)\n",
    "\n",
    "plt.subplot(122)\n",
    "ax = sns.barplot(data=df_per, x=\"promotion_last_5years\", y=0, hue=\"left\",\n",
    "                 order=(df.promotion_last_5years.value_counts().index)\n",
    "                )\n",
    "ax.set(ylabel='percentage')\n",
    "\n",
    "for p in ax.containers:\n",
    "    ax.bar_label(p, fmt='%.2f')"
   ]
  },
  {
   "cell_type": "code",
   "execution_count": 14,
   "metadata": {
    "execution": {
     "iopub.execute_input": "2022-11-03T12:40:35.357862Z",
     "iopub.status.busy": "2022-11-03T12:40:35.357753Z",
     "iopub.status.idle": "2022-11-03T12:40:35.669541Z",
     "shell.execute_reply": "2022-11-03T12:40:35.669105Z",
     "shell.execute_reply.started": "2022-11-03T12:40:35.357847Z"
    },
    "tags": []
   },
   "outputs": [
    {
     "data": {
      "image/png": "[encoded data removed]",
      "text/plain": [
       "<Figure size 1000x400 with 2 Axes>"
      ]
     },
     "metadata": {},
     "output_type": "display_data"
    }
   ],
   "source": [
    "plt.figure(figsize=(10,4))\n",
    "plt.subplot(121)\n",
    "ax = sns.countplot(data=df, x='Work_accident', hue='left');\n",
    "for p in ax.containers:\n",
    "    ax.bar_label(p)\n",
    "    \n",
    "plt.subplot(122)\n",
    "\n",
    "df_per = df.groupby(\"Work_accident\")[[\"left\"]].value_counts(normalize=True).reset_index().sort_values(by=0)\n",
    "\n",
    "ax = sns.barplot(data=df_per, order=(df.Work_accident.value_counts().index), \n",
    "                hue=\"left\", y=0, x=\"Work_accident\")\n",
    "ax.set(ylabel='percentage')\n",
    "\n",
    "for p in ax.containers:\n",
    "    ax.bar_label(p, fmt='%.2f')"
   ]
  },
  {
   "cell_type": "code",
   "execution_count": 15,
   "metadata": {
    "execution": {
     "iopub.execute_input": "2022-11-03T12:40:35.670365Z",
     "iopub.status.busy": "2022-11-03T12:40:35.670230Z",
     "iopub.status.idle": "2022-11-03T12:40:35.900949Z",
     "shell.execute_reply": "2022-11-03T12:40:35.900455Z",
     "shell.execute_reply.started": "2022-11-03T12:40:35.670338Z"
    },
    "tags": []
   },
   "outputs": [
    {
     "data": {
      "image/png": "[encoded data removed]",
      "text/plain": [
       "<Figure size 1200x400 with 2 Axes>"
      ]
     },
     "metadata": {},
     "output_type": "display_data"
    }
   ],
   "source": [
    "plt.figure(figsize=(12,4))\n",
    "plt.subplot(121)\n",
    "ax = sns.countplot(data=df, hue='left', x='salary');\n",
    "for p in ax.containers:\n",
    "    ax.bar_label(p)\n",
    "    \n",
    "plt.subplot(122)\n",
    "\n",
    "df_per = df.groupby(\"salary\")[[\"left\"]].value_counts(normalize=True).reset_index().sort_values(by=0)\n",
    "\n",
    "ax = sns.barplot(data=df_per, order=(df.salary.value_counts().index), \n",
    "                x=\"salary\", y=0, hue=\"left\")\n",
    "ax.set(ylabel='percentage')\n",
    "\n",
    "for p in ax.containers:\n",
    "    ax.bar_label(p, fmt='%.2f')"
   ]
  },
  {
   "cell_type": "code",
   "execution_count": 16,
   "metadata": {
    "execution": {
     "iopub.execute_input": "2022-11-03T12:40:35.901919Z",
     "iopub.status.busy": "2022-11-03T12:40:35.901741Z",
     "iopub.status.idle": "2022-11-03T12:40:35.909657Z",
     "shell.execute_reply": "2022-11-03T12:40:35.908198Z",
     "shell.execute_reply.started": "2022-11-03T12:40:35.901886Z"
    },
    "tags": []
   },
   "outputs": [
    {
     "data": {
      "text/plain": [
       "sales          4140\n",
       "technical      2720\n",
       "support        2229\n",
       "IT             1227\n",
       "product_mng     902\n",
       "marketing       858\n",
       "RandD           787\n",
       "accounting      767\n",
       "hr              739\n",
       "management      630\n",
       "Name: departments, dtype: int64"
      ]
     },
     "execution_count": 16,
     "metadata": {},
     "output_type": "execute_result"
    }
   ],
   "source": [
    "df.departments.value_counts()\n",
    "#.index"
   ]
  },
  {
   "cell_type": "code",
   "execution_count": 17,
   "metadata": {
    "execution": {
     "iopub.execute_input": "2022-11-03T12:40:35.911240Z",
     "iopub.status.busy": "2022-11-03T12:40:35.911000Z",
     "iopub.status.idle": "2022-11-03T12:40:36.408487Z",
     "shell.execute_reply": "2022-11-03T12:40:36.408026Z",
     "shell.execute_reply.started": "2022-11-03T12:40:35.911222Z"
    },
    "tags": []
   },
   "outputs": [
    {
     "data": {
      "image/png": "[encoded data removed]",
      "text/plain": [
       "<Figure size 1600x800 with 2 Axes>"
      ]
     },
     "metadata": {},
     "output_type": "display_data"
    }
   ],
   "source": [
    "plt.figure(figsize=(16,8))\n",
    "\n",
    "plt.subplot(121)\n",
    "ax = sns.countplot(data=df, x='departments', hue='left',\n",
    "                   order=(df.departments.value_counts().index));\n",
    "plt.xticks(rotation=45)\n",
    "for p in ax.containers:\n",
    "    ax.bar_label(p)\n",
    "\n",
    "    \n",
    "df_per = df.groupby(\"departments\")[[\"left\"]].value_counts(normalize=True).reset_index().sort_values(by=0)\n",
    "\n",
    "plt.subplot(122)\n",
    "ax = sns.barplot(data=df_per, x=\"departments\", y=0, hue=\"left\",\n",
    "                                    order=(df.departments.value_counts().index))\n",
    "plt.xticks(rotation=45)\n",
    "ax.set(ylabel='percentage')\n",
    "for p in ax.containers:\n",
    "    ax.bar_label(p, fmt='%.2f')\n",
    "\n"
   ]
  },
  {
   "cell_type": "code",
   "execution_count": 18,
   "metadata": {
    "execution": {
     "iopub.execute_input": "2022-11-03T12:40:36.409634Z",
     "iopub.status.busy": "2022-11-03T12:40:36.409460Z",
     "iopub.status.idle": "2022-11-03T12:40:36.603810Z",
     "shell.execute_reply": "2022-11-03T12:40:36.603342Z",
     "shell.execute_reply.started": "2022-11-03T12:40:36.409615Z"
    },
    "tags": []
   },
   "outputs": [
    {
     "data": {
      "text/plain": [
       "Text(0.5, 1.0, 'Correlation Matrix')"
      ]
     },
     "execution_count": 18,
     "metadata": {},
     "output_type": "execute_result"
    },
    {
     "data": {
      "image/png": "[encoded data removed]",
      "text/plain": [
       "<Figure size 500x400 with 2 Axes>"
      ]
     },
     "metadata": {},
     "output_type": "display_data"
    }
   ],
   "source": [
    "plt.figure(figsize=(5,4))\n",
    "sns.heatmap(df_num.drop(columns=\"left\").corr(),annot=True, cmap='viridis')\n",
    "plt.title(\"Correlation Matrix\")"
   ]
  },
  {
   "cell_type": "markdown",
   "metadata": {
    "id": "36OyDJyx2sm2"
   },
   "source": [
    "## 3. Data Pre-Processing"
   ]
  },
  {
   "cell_type": "markdown",
   "metadata": {
    "id": "iN94C5P42sm4"
   },
   "source": [
    "#### Scaling\n",
    "\n",
    "Some machine learning algorithms are sensitive to feature scaling while others are virtually invariant to it. Machine learning algorithms like linear regression, logistic regression, neural network, etc. that use gradient descent as an optimization technique require data to be scaled. Also distance algorithms like KNN, K-means, and SVM are most affected by the range of features. This is because behind the scenes they are using distances between data points to determine their similarity.\n",
    "\n",
    "Scaling Types:\n",
    "- Normalization: Normalization is a scaling technique in which values are shifted and rescaled so that they end up ranging between 0 and 1. It is also known as Min-Max scaling.\n",
    "\n",
    "- Standardization: Standardization is another scaling technique where the values are centered around the mean with a unit standard deviation. This means that the mean of the attribute becomes zero and the resultant distribution has a unit standard deviation.\n",
    "\n",
    "    "
   ]
  },
  {
   "cell_type": "code",
   "execution_count": null,
   "metadata": {
    "id": "1HXszRiq2sm4"
   },
   "outputs": [],
   "source": []
  },
  {
   "cell_type": "markdown",
   "metadata": {
    "id": "L8-SVBoq2snA"
   },
   "source": [
    "#### Encoding\n",
    "\n",
    "Lots of machine learning algorithms require numerical input data, so you need to represent categorical columns in a numerical column. In order to encode this data, you could map each value to a number. e.g. Salary column's value can be represented as low:0, medium:1, and high:2. This process is known as label encoding, and sklearn conveniently will do this for you using LabelEncoder.\n",
    "\n"
   ]
  },
  {
   "cell_type": "code",
   "execution_count": null,
   "metadata": {
    "id": "-pVP9UBQ2snC"
   },
   "outputs": [],
   "source": []
  },
  {
   "cell_type": "markdown",
   "metadata": {
    "id": "c1Gp2f7q2snF"
   },
   "source": [
    "## 4. Cluster Analysis\n",
    "\n",
    "- Cluster analysis or clustering is the task of grouping a set of objects in such a way that objects in the same group (called a cluster) are more similar (in some sense) to each other than to those in other groups (clusters). It is a main task of exploratory data mining, and a common technique for statistical data analysis, used in many fields, including pattern recognition, image analysis, information retrieval, bioinformatics, data compression, computer graphics and machine learning.\n",
    "\n",
    "    [Cluster Analysis](https://en.wikipedia.org/wiki/Cluster_analysis)\n",
    "\n",
    "    [Cluster Analysis2](https://realpython.com/k-means-clustering-python/)"
   ]
  },
  {
   "cell_type": "markdown",
   "metadata": {
    "id": "TWQx_bhw2snG"
   },
   "source": [
    "#### The Elbow Method\n",
    "\n",
    "- \"Elbow Method\" can be used to find the optimum number of clusters in cluster analysis. The elbow method is used to determine the optimal number of clusters in k-means clustering. The elbow method plots the value of the cost function produced by different values of k. If k increases, average distortion will decrease, each cluster will have fewer constituent instances, and the instances will be closer to their respective centroids. However, the improvements in average distortion will decline as k increases. The value of k at which improvement in distortion declines the most is called the elbow, at which we should stop dividing the data into further clusters.\n",
    "\n",
    "    [The Elbow Method](https://en.wikipedia.org/wiki/Elbow_method_(clustering)\n",
    "\n",
    "    [The Elbow Method2](https://medium.com/@mudgalvivek2911/machine-learning-clustering-elbow-method-4e8c2b404a5d)\n",
    "\n",
    "    [KMeans](https://towardsdatascience.com/understanding-k-means-clustering-in-machine-learning-6a6e67336aa1)\n",
    "\n",
    "Let's find out the groups of employees who left. You can observe that the most important factor for any employee to stay or leave is satisfaction and performance in the company. So let's bunch them in the group of people using cluster analysis."
   ]
  },
  {
   "cell_type": "code",
   "execution_count": null,
   "metadata": {
    "id": "jMLD4mr32snH"
   },
   "outputs": [],
   "source": []
  },
  {
   "cell_type": "markdown",
   "metadata": {
    "id": "WpmbaABr2snN"
   },
   "source": [
    "## 5. Model Building"
   ]
  },
  {
   "cell_type": "markdown",
   "metadata": {
    "id": "pYsKmaZd2snO"
   },
   "source": [
    "### Split Data as Train and Test Set"
   ]
  },
  {
   "cell_type": "code",
   "execution_count": null,
   "metadata": {
    "id": "S15Bpefl2snS"
   },
   "outputs": [],
   "source": []
  },
  {
   "cell_type": "markdown",
   "metadata": {
    "id": "z9P157eX2sn2"
   },
   "source": [
    "### #Distance Based(?) Algorithm"
   ]
  },
  {
   "cell_type": "markdown",
   "metadata": {
    "id": "L8OkbOrC2snY"
   },
   "source": [
    "#### Model Building"
   ]
  },
  {
   "cell_type": "code",
   "execution_count": null,
   "metadata": {
    "id": "MefRCx542snY"
   },
   "outputs": [],
   "source": []
  },
  {
   "cell_type": "markdown",
   "metadata": {
    "id": "VAiUMdtI2snk"
   },
   "source": [
    "#### Evaluating Model Performance and Tuning"
   ]
  },
  {
   "cell_type": "markdown",
   "metadata": {
    "id": "92xg3rvR2snl"
   },
   "source": [
    "- Confusion Matrix : You can use scikit-learn metrics module for accuracy calculation. A Confusion matrix is an N x N matrix used for evaluating the performance of a classification model, where N is the number of target classes. The matrix compares the actual target values with those predicted by the machine learning model. This gives us a holistic view of how well our classification model is performing and what kinds of errors it is making.\n",
    "\n",
    "    [Confusion Matrix](https://www.analyticsvidhya.com/blog/2020/04/confusion-matrix-machine-learning/)"
   ]
  },
  {
   "cell_type": "markdown",
   "metadata": {
    "id": "S9VeChm62snm"
   },
   "source": [
    "- Yellowbrick: Yellowbrick is a suite of visualization and diagnostic tools that will enable quicker model selection. It’s a Python package that combines scikit-learn and matplotlib. Some of the more popular visualization tools include model selection, feature visualization, classification and regression visualization\n",
    "\n",
    "    [Yellowbrick](https://www.analyticsvidhya.com/blog/2018/05/yellowbrick-a-set-of-visualization-tools-to-accelerate-your-model-selection-process/)"
   ]
  },
  {
   "cell_type": "code",
   "execution_count": null,
   "metadata": {
    "id": "CSUOz5302snx"
   },
   "outputs": [],
   "source": []
  },
  {
   "cell_type": "markdown",
   "metadata": {
    "id": "90HfPd4w2sn1"
   },
   "source": [
    "#### Prediction"
   ]
  },
  {
   "cell_type": "code",
   "execution_count": null,
   "metadata": {
    "id": "R0U41iE8QYJj"
   },
   "outputs": [],
   "source": []
  },
  {
   "cell_type": "markdown",
   "metadata": {
    "id": "PfMy1D_p2soK"
   },
   "source": [
    "### #Random Forest Classifier"
   ]
  },
  {
   "cell_type": "markdown",
   "metadata": {
    "id": "QPakx2ON2sn3"
   },
   "source": [
    "#### Model Building"
   ]
  },
  {
   "cell_type": "code",
   "execution_count": 19,
   "metadata": {
    "execution": {
     "iopub.execute_input": "2022-11-03T12:40:36.604708Z",
     "iopub.status.busy": "2022-11-03T12:40:36.604539Z",
     "iopub.status.idle": "2022-11-03T12:40:36.609071Z",
     "shell.execute_reply": "2022-11-03T12:40:36.608413Z",
     "shell.execute_reply.started": "2022-11-03T12:40:36.604694Z"
    },
    "id": "HkNI16f72sn4"
   },
   "outputs": [],
   "source": [
    "X = df.drop(columns=\"left\")\n",
    "y = df['left']"
   ]
  },
  {
   "cell_type": "code",
   "execution_count": 20,
   "metadata": {
    "execution": {
     "iopub.execute_input": "2022-11-03T12:40:36.609979Z",
     "iopub.status.busy": "2022-11-03T12:40:36.609809Z",
     "iopub.status.idle": "2022-11-03T12:40:36.619438Z",
     "shell.execute_reply": "2022-11-03T12:40:36.618825Z",
     "shell.execute_reply.started": "2022-11-03T12:40:36.609960Z"
    }
   },
   "outputs": [],
   "source": [
    "from sklearn.model_selection import train_test_split"
   ]
  },
  {
   "cell_type": "code",
   "execution_count": 21,
   "metadata": {
    "execution": {
     "iopub.execute_input": "2022-11-03T12:40:36.620179Z",
     "iopub.status.busy": "2022-11-03T12:40:36.620053Z",
     "iopub.status.idle": "2022-11-03T12:40:36.626993Z",
     "shell.execute_reply": "2022-11-03T12:40:36.625842Z",
     "shell.execute_reply.started": "2022-11-03T12:40:36.620160Z"
    }
   },
   "outputs": [],
   "source": [
    "X_train, X_test, y_train, y_test = train_test_split(X, y, test_size=0.2, random_state=101)"
   ]
  },
  {
   "cell_type": "code",
   "execution_count": 22,
   "metadata": {
    "execution": {
     "iopub.execute_input": "2022-11-03T12:40:36.629067Z",
     "iopub.status.busy": "2022-11-03T12:40:36.628777Z",
     "iopub.status.idle": "2022-11-03T12:40:36.642410Z",
     "shell.execute_reply": "2022-11-03T12:40:36.641519Z",
     "shell.execute_reply.started": "2022-11-03T12:40:36.629036Z"
    },
    "tags": []
   },
   "outputs": [
    {
     "data": {
      "text/html": [
       "<div>\n",
       "<style scoped>\n",
       "    .dataframe tbody tr th:only-of-type {\n",
       "        vertical-align: middle;\n",
       "    }\n",
       "\n",
       "    .dataframe tbody tr th {\n",
       "        vertical-align: top;\n",
       "    }\n",
       "\n",
       "    .dataframe thead th {\n",
       "        text-align: right;\n",
       "    }\n",
       "</style>\n",
       "<table border=\"1\" class=\"dataframe\">\n",
       "  <thead>\n",
       "    <tr style=\"text-align: right;\">\n",
       "      <th></th>\n",
       "      <th>satisfaction_level</th>\n",
       "      <th>last_evaluation</th>\n",
       "      <th>number_project</th>\n",
       "      <th>average_montly_hours</th>\n",
       "      <th>time_spend_company</th>\n",
       "      <th>Work_accident</th>\n",
       "      <th>promotion_last_5years</th>\n",
       "      <th>departments</th>\n",
       "      <th>salary</th>\n",
       "    </tr>\n",
       "  </thead>\n",
       "  <tbody>\n",
       "    <tr>\n",
       "      <th>5362</th>\n",
       "      <td>0.420</td>\n",
       "      <td>0.470</td>\n",
       "      <td>4</td>\n",
       "      <td>146</td>\n",
       "      <td>3</td>\n",
       "      <td>1</td>\n",
       "      <td>0</td>\n",
       "      <td>sales</td>\n",
       "      <td>medium</td>\n",
       "    </tr>\n",
       "    <tr>\n",
       "      <th>1257</th>\n",
       "      <td>0.880</td>\n",
       "      <td>0.920</td>\n",
       "      <td>4</td>\n",
       "      <td>233</td>\n",
       "      <td>6</td>\n",
       "      <td>0</td>\n",
       "      <td>0</td>\n",
       "      <td>technical</td>\n",
       "      <td>low</td>\n",
       "    </tr>\n",
       "    <tr>\n",
       "      <th>12387</th>\n",
       "      <td>0.100</td>\n",
       "      <td>0.970</td>\n",
       "      <td>6</td>\n",
       "      <td>247</td>\n",
       "      <td>4</td>\n",
       "      <td>0</td>\n",
       "      <td>0</td>\n",
       "      <td>management</td>\n",
       "      <td>medium</td>\n",
       "    </tr>\n",
       "    <tr>\n",
       "      <th>4375</th>\n",
       "      <td>0.720</td>\n",
       "      <td>0.930</td>\n",
       "      <td>4</td>\n",
       "      <td>174</td>\n",
       "      <td>2</td>\n",
       "      <td>0</td>\n",
       "      <td>0</td>\n",
       "      <td>sales</td>\n",
       "      <td>low</td>\n",
       "    </tr>\n",
       "    <tr>\n",
       "      <th>5452</th>\n",
       "      <td>0.500</td>\n",
       "      <td>0.730</td>\n",
       "      <td>4</td>\n",
       "      <td>271</td>\n",
       "      <td>2</td>\n",
       "      <td>0</td>\n",
       "      <td>0</td>\n",
       "      <td>hr</td>\n",
       "      <td>low</td>\n",
       "    </tr>\n",
       "    <tr>\n",
       "      <th>...</th>\n",
       "      <td>...</td>\n",
       "      <td>...</td>\n",
       "      <td>...</td>\n",
       "      <td>...</td>\n",
       "      <td>...</td>\n",
       "      <td>...</td>\n",
       "      <td>...</td>\n",
       "      <td>...</td>\n",
       "      <td>...</td>\n",
       "    </tr>\n",
       "    <tr>\n",
       "      <th>5695</th>\n",
       "      <td>0.610</td>\n",
       "      <td>0.720</td>\n",
       "      <td>3</td>\n",
       "      <td>144</td>\n",
       "      <td>2</td>\n",
       "      <td>0</td>\n",
       "      <td>0</td>\n",
       "      <td>support</td>\n",
       "      <td>low</td>\n",
       "    </tr>\n",
       "    <tr>\n",
       "      <th>8006</th>\n",
       "      <td>0.560</td>\n",
       "      <td>0.550</td>\n",
       "      <td>3</td>\n",
       "      <td>245</td>\n",
       "      <td>2</td>\n",
       "      <td>0</td>\n",
       "      <td>0</td>\n",
       "      <td>IT</td>\n",
       "      <td>medium</td>\n",
       "    </tr>\n",
       "    <tr>\n",
       "      <th>1361</th>\n",
       "      <td>0.750</td>\n",
       "      <td>0.890</td>\n",
       "      <td>5</td>\n",
       "      <td>272</td>\n",
       "      <td>5</td>\n",
       "      <td>0</td>\n",
       "      <td>0</td>\n",
       "      <td>IT</td>\n",
       "      <td>medium</td>\n",
       "    </tr>\n",
       "    <tr>\n",
       "      <th>1547</th>\n",
       "      <td>0.090</td>\n",
       "      <td>0.830</td>\n",
       "      <td>6</td>\n",
       "      <td>250</td>\n",
       "      <td>4</td>\n",
       "      <td>0</td>\n",
       "      <td>0</td>\n",
       "      <td>sales</td>\n",
       "      <td>medium</td>\n",
       "    </tr>\n",
       "    <tr>\n",
       "      <th>13151</th>\n",
       "      <td>0.950</td>\n",
       "      <td>0.840</td>\n",
       "      <td>3</td>\n",
       "      <td>270</td>\n",
       "      <td>3</td>\n",
       "      <td>1</td>\n",
       "      <td>1</td>\n",
       "      <td>sales</td>\n",
       "      <td>medium</td>\n",
       "    </tr>\n",
       "  </tbody>\n",
       "</table>\n",
       "<p>11999 rows × 9 columns</p>\n",
       "</div>"
      ],
      "text/plain": [
       "       satisfaction_level  last_evaluation  number_project  \\\n",
       "5362                0.420            0.470               4   \n",
       "1257                0.880            0.920               4   \n",
       "12387               0.100            0.970               6   \n",
       "4375                0.720            0.930               4   \n",
       "5452                0.500            0.730               4   \n",
       "...                   ...              ...             ...   \n",
       "5695                0.610            0.720               3   \n",
       "8006                0.560            0.550               3   \n",
       "1361                0.750            0.890               5   \n",
       "1547                0.090            0.830               6   \n",
       "13151               0.950            0.840               3   \n",
       "\n",
       "       average_montly_hours  time_spend_company  Work_accident  \\\n",
       "5362                    146                   3              1   \n",
       "1257                    233                   6              0   \n",
       "12387                   247                   4              0   \n",
       "4375                    174                   2              0   \n",
       "5452                    271                   2              0   \n",
       "...                     ...                 ...            ...   \n",
       "5695                    144                   2              0   \n",
       "8006                    245                   2              0   \n",
       "1361                    272                   5              0   \n",
       "1547                    250                   4              0   \n",
       "13151                   270                   3              1   \n",
       "\n",
       "       promotion_last_5years departments  salary  \n",
       "5362                       0       sales  medium  \n",
       "1257                       0   technical     low  \n",
       "12387                      0  management  medium  \n",
       "4375                       0       sales     low  \n",
       "5452                       0          hr     low  \n",
       "...                      ...         ...     ...  \n",
       "5695                       0     support     low  \n",
       "8006                       0          IT  medium  \n",
       "1361                       0          IT  medium  \n",
       "1547                       0       sales  medium  \n",
       "13151                      1       sales  medium  \n",
       "\n",
       "[11999 rows x 9 columns]"
      ]
     },
     "execution_count": 22,
     "metadata": {},
     "output_type": "execute_result"
    }
   ],
   "source": [
    "X_train"
   ]
  },
  {
   "cell_type": "code",
   "execution_count": 23,
   "metadata": {
    "execution": {
     "iopub.execute_input": "2022-11-03T12:40:36.643910Z",
     "iopub.status.busy": "2022-11-03T12:40:36.643683Z",
     "iopub.status.idle": "2022-11-03T12:40:36.652174Z",
     "shell.execute_reply": "2022-11-03T12:40:36.651361Z",
     "shell.execute_reply.started": "2022-11-03T12:40:36.643885Z"
    },
    "tags": []
   },
   "outputs": [
    {
     "data": {
      "text/plain": [
       "Index(['Work_accident', 'promotion_last_5years', 'departments', 'salary'], dtype='object')"
      ]
     },
     "execution_count": 23,
     "metadata": {},
     "output_type": "execute_result"
    }
   ],
   "source": [
    "cat = X_train[['Work_accident', 'promotion_last_5years', 'departments', \"salary\"]].columns\n",
    "cat"
   ]
  },
  {
   "cell_type": "code",
   "execution_count": 24,
   "metadata": {
    "execution": {
     "iopub.execute_input": "2022-11-03T12:40:36.653578Z",
     "iopub.status.busy": "2022-11-03T12:40:36.653368Z",
     "iopub.status.idle": "2022-11-03T12:40:36.658065Z",
     "shell.execute_reply": "2022-11-03T12:40:36.656632Z",
     "shell.execute_reply.started": "2022-11-03T12:40:36.653554Z"
    }
   },
   "outputs": [],
   "source": [
    "from sklearn.compose import make_column_transformer\n",
    "from sklearn.preprocessing import OrdinalEncoder\n",
    "\n",
    "\n",
    "ord_enc = OrdinalEncoder(handle_unknown='use_encoded_value', unknown_value=-1)\n",
    "\n",
    "column_trans = make_column_transformer((ord_enc, cat), remainder='passthrough')"
   ]
  },
  {
   "cell_type": "code",
   "execution_count": 25,
   "metadata": {
    "execution": {
     "iopub.execute_input": "2022-11-03T12:40:36.659413Z",
     "iopub.status.busy": "2022-11-03T12:40:36.659182Z",
     "iopub.status.idle": "2022-11-03T12:40:37.346809Z",
     "shell.execute_reply": "2022-11-03T12:40:37.346288Z",
     "shell.execute_reply.started": "2022-11-03T12:40:36.659385Z"
    }
   },
   "outputs": [
    {
     "data": {
      "text/plain": [
       "Pipeline(steps=[('OrdinalEncoder',\n",
       "                 ColumnTransformer(remainder='passthrough',\n",
       "                                   transformers=[('ordinalencoder',\n",
       "                                                  OrdinalEncoder(handle_unknown='use_encoded_value',\n",
       "                                                                 unknown_value=-1),\n",
       "                                                  Index(['Work_accident', 'promotion_last_5years', 'departments', 'salary'], dtype='object'))])),\n",
       "                ('RF_model', RandomForestClassifier(random_state=101))])"
      ]
     },
     "execution_count": 25,
     "metadata": {},
     "output_type": "execute_result"
    }
   ],
   "source": [
    "from sklearn.pipeline import Pipeline\n",
    "from sklearn.ensemble import RandomForestClassifier\n",
    "\n",
    "\n",
    "operations = [(\"OrdinalEncoder\", column_trans), (\"RF_model\", RandomForestClassifier(random_state=101))]\n",
    "\n",
    "pipe_RF = Pipeline(steps=operations)\n",
    "\n",
    "pipe_RF.fit(X_train, y_train)"
   ]
  },
  {
   "cell_type": "markdown",
   "metadata": {
    "id": "MdGymWJ_2sn9"
   },
   "source": [
    "#### Evaluating Model Performance and Tuning"
   ]
  },
  {
   "cell_type": "code",
   "execution_count": 26,
   "metadata": {
    "execution": {
     "iopub.execute_input": "2022-11-03T12:40:37.347884Z",
     "iopub.status.busy": "2022-11-03T12:40:37.347710Z",
     "iopub.status.idle": "2022-11-03T12:40:37.353922Z",
     "shell.execute_reply": "2022-11-03T12:40:37.353306Z",
     "shell.execute_reply.started": "2022-11-03T12:40:37.347852Z"
    },
    "id": "TPF_wziW2soC",
    "tags": []
   },
   "outputs": [],
   "source": [
    "from sklearn.metrics import confusion_matrix, classification_report, accuracy_score, recall_score, precision_score,f1_score\n",
    "\n",
    "def eval_metric(model, X_train, y_train, X_test, y_test):\n",
    "    y_train_pred = model.predict(X_train)\n",
    "    y_pred = model.predict(X_test)\n",
    "    \n",
    "    print(\"Test_Set\")\n",
    "    print(confusion_matrix(y_test, y_pred))\n",
    "    print(classification_report(y_test, y_pred))\n",
    "    print()\n",
    "    print(\"Train_Set\")\n",
    "    print(confusion_matrix(y_train, y_train_pred))\n",
    "    print(classification_report(y_train, y_train_pred))"
   ]
  },
  {
   "cell_type": "code",
   "execution_count": 27,
   "metadata": {
    "execution": {
     "iopub.execute_input": "2022-11-03T12:40:37.355525Z",
     "iopub.status.busy": "2022-11-03T12:40:37.355244Z",
     "iopub.status.idle": "2022-11-03T12:40:37.512462Z",
     "shell.execute_reply": "2022-11-03T12:40:37.511932Z",
     "shell.execute_reply.started": "2022-11-03T12:40:37.355486Z"
    }
   },
   "outputs": [
    {
     "name": "stdout",
     "output_type": "stream",
     "text": [
      "Test_Set\n",
      "[[2261    1]\n",
      " [  16  722]]\n",
      "              precision    recall  f1-score   support\n",
      "\n",
      "           0       0.99      1.00      1.00      2262\n",
      "           1       1.00      0.98      0.99       738\n",
      "\n",
      "    accuracy                           0.99      3000\n",
      "   macro avg       1.00      0.99      0.99      3000\n",
      "weighted avg       0.99      0.99      0.99      3000\n",
      "\n",
      "\n",
      "Train_Set\n",
      "[[9166    0]\n",
      " [   0 2833]]\n",
      "              precision    recall  f1-score   support\n",
      "\n",
      "           0       1.00      1.00      1.00      9166\n",
      "           1       1.00      1.00      1.00      2833\n",
      "\n",
      "    accuracy                           1.00     11999\n",
      "   macro avg       1.00      1.00      1.00     11999\n",
      "weighted avg       1.00      1.00      1.00     11999\n",
      "\n"
     ]
    }
   ],
   "source": [
    "eval_metric(pipe_RF, X_train, y_train, X_test, y_test)"
   ]
  },
  {
   "cell_type": "code",
   "execution_count": 28,
   "metadata": {
    "execution": {
     "iopub.execute_input": "2022-11-03T12:40:37.513194Z",
     "iopub.status.busy": "2022-11-03T12:40:37.513088Z",
     "iopub.status.idle": "2022-11-03T12:40:37.516898Z",
     "shell.execute_reply": "2022-11-03T12:40:37.516193Z",
     "shell.execute_reply.started": "2022-11-03T12:40:37.513180Z"
    }
   },
   "outputs": [],
   "source": [
    "from sklearn.metrics import make_scorer\n",
    "from sklearn.model_selection import cross_validate, cross_val_score\n",
    "from sklearn.model_selection import GridSearchCV"
   ]
  },
  {
   "cell_type": "code",
   "execution_count": 29,
   "metadata": {
    "execution": {
     "iopub.execute_input": "2022-11-03T12:40:37.517776Z",
     "iopub.status.busy": "2022-11-03T12:40:37.517632Z",
     "iopub.status.idle": "2022-11-03T12:40:43.345549Z",
     "shell.execute_reply": "2022-11-03T12:40:43.345029Z",
     "shell.execute_reply.started": "2022-11-03T12:40:37.517762Z"
    },
    "tags": []
   },
   "outputs": [
    {
     "data": {
      "text/html": [
       "<div>\n",
       "<style scoped>\n",
       "    .dataframe tbody tr th:only-of-type {\n",
       "        vertical-align: middle;\n",
       "    }\n",
       "\n",
       "    .dataframe tbody tr th {\n",
       "        vertical-align: top;\n",
       "    }\n",
       "\n",
       "    .dataframe thead th {\n",
       "        text-align: right;\n",
       "    }\n",
       "</style>\n",
       "<table border=\"1\" class=\"dataframe\">\n",
       "  <thead>\n",
       "    <tr style=\"text-align: right;\">\n",
       "      <th></th>\n",
       "      <th>fit_time</th>\n",
       "      <th>score_time</th>\n",
       "      <th>test_accuracy</th>\n",
       "      <th>test_precision</th>\n",
       "      <th>test_recall</th>\n",
       "      <th>test_f1</th>\n",
       "    </tr>\n",
       "  </thead>\n",
       "  <tbody>\n",
       "    <tr>\n",
       "      <th>1</th>\n",
       "      <td>0.567</td>\n",
       "      <td>0.020</td>\n",
       "      <td>0.993</td>\n",
       "      <td>0.996</td>\n",
       "      <td>0.972</td>\n",
       "      <td>0.984</td>\n",
       "    </tr>\n",
       "    <tr>\n",
       "      <th>2</th>\n",
       "      <td>0.545</td>\n",
       "      <td>0.020</td>\n",
       "      <td>0.991</td>\n",
       "      <td>0.989</td>\n",
       "      <td>0.972</td>\n",
       "      <td>0.980</td>\n",
       "    </tr>\n",
       "    <tr>\n",
       "      <th>3</th>\n",
       "      <td>0.539</td>\n",
       "      <td>0.020</td>\n",
       "      <td>0.994</td>\n",
       "      <td>0.996</td>\n",
       "      <td>0.979</td>\n",
       "      <td>0.988</td>\n",
       "    </tr>\n",
       "    <tr>\n",
       "      <th>4</th>\n",
       "      <td>0.533</td>\n",
       "      <td>0.019</td>\n",
       "      <td>0.989</td>\n",
       "      <td>1.000</td>\n",
       "      <td>0.954</td>\n",
       "      <td>0.976</td>\n",
       "    </tr>\n",
       "    <tr>\n",
       "      <th>5</th>\n",
       "      <td>0.530</td>\n",
       "      <td>0.020</td>\n",
       "      <td>0.990</td>\n",
       "      <td>0.996</td>\n",
       "      <td>0.961</td>\n",
       "      <td>0.978</td>\n",
       "    </tr>\n",
       "    <tr>\n",
       "      <th>6</th>\n",
       "      <td>0.532</td>\n",
       "      <td>0.020</td>\n",
       "      <td>0.989</td>\n",
       "      <td>0.993</td>\n",
       "      <td>0.961</td>\n",
       "      <td>0.977</td>\n",
       "    </tr>\n",
       "    <tr>\n",
       "      <th>7</th>\n",
       "      <td>0.585</td>\n",
       "      <td>0.023</td>\n",
       "      <td>0.989</td>\n",
       "      <td>1.000</td>\n",
       "      <td>0.954</td>\n",
       "      <td>0.977</td>\n",
       "    </tr>\n",
       "    <tr>\n",
       "      <th>8</th>\n",
       "      <td>0.581</td>\n",
       "      <td>0.020</td>\n",
       "      <td>0.994</td>\n",
       "      <td>1.000</td>\n",
       "      <td>0.975</td>\n",
       "      <td>0.988</td>\n",
       "    </tr>\n",
       "    <tr>\n",
       "      <th>9</th>\n",
       "      <td>0.600</td>\n",
       "      <td>0.023</td>\n",
       "      <td>0.992</td>\n",
       "      <td>0.986</td>\n",
       "      <td>0.979</td>\n",
       "      <td>0.982</td>\n",
       "    </tr>\n",
       "    <tr>\n",
       "      <th>10</th>\n",
       "      <td>0.586</td>\n",
       "      <td>0.023</td>\n",
       "      <td>0.995</td>\n",
       "      <td>0.996</td>\n",
       "      <td>0.982</td>\n",
       "      <td>0.989</td>\n",
       "    </tr>\n",
       "  </tbody>\n",
       "</table>\n",
       "</div>"
      ],
      "text/plain": [
       "    fit_time  score_time  test_accuracy  test_precision  test_recall  test_f1\n",
       "1      0.567       0.020          0.993           0.996        0.972    0.984\n",
       "2      0.545       0.020          0.991           0.989        0.972    0.980\n",
       "3      0.539       0.020          0.994           0.996        0.979    0.988\n",
       "4      0.533       0.019          0.989           1.000        0.954    0.976\n",
       "5      0.530       0.020          0.990           0.996        0.961    0.978\n",
       "6      0.532       0.020          0.989           0.993        0.961    0.977\n",
       "7      0.585       0.023          0.989           1.000        0.954    0.977\n",
       "8      0.581       0.020          0.994           1.000        0.975    0.988\n",
       "9      0.600       0.023          0.992           0.986        0.979    0.982\n",
       "10     0.586       0.023          0.995           0.996        0.982    0.989"
      ]
     },
     "execution_count": 29,
     "metadata": {},
     "output_type": "execute_result"
    }
   ],
   "source": [
    "operations = [(\"OrdinalEncoder\", column_trans), (\"RF_model\", RandomForestClassifier(random_state=101))]\n",
    "\n",
    "model = Pipeline(steps=operations)\n",
    "\n",
    "scores = cross_validate(model, X_train, y_train, scoring = [\"accuracy\", \"precision\", \"recall\", \"f1\"], \n",
    "                        cv = 10)\n",
    "df_scores = pd.DataFrame(scores, index = range(1, 11))\n",
    "df_scores"
   ]
  },
  {
   "cell_type": "code",
   "execution_count": 30,
   "metadata": {
    "execution": {
     "iopub.execute_input": "2022-11-03T12:40:43.346630Z",
     "iopub.status.busy": "2022-11-03T12:40:43.346438Z",
     "iopub.status.idle": "2022-11-03T12:40:43.354306Z",
     "shell.execute_reply": "2022-11-03T12:40:43.353692Z",
     "shell.execute_reply.started": "2022-11-03T12:40:43.346611Z"
    },
    "tags": []
   },
   "outputs": [
    {
     "data": {
      "text/html": [
       "<div>\n",
       "<style scoped>\n",
       "    .dataframe tbody tr th:only-of-type {\n",
       "        vertical-align: middle;\n",
       "    }\n",
       "\n",
       "    .dataframe tbody tr th {\n",
       "        vertical-align: top;\n",
       "    }\n",
       "\n",
       "    .dataframe thead th {\n",
       "        text-align: right;\n",
       "    }\n",
       "</style>\n",
       "<table border=\"1\" class=\"dataframe\">\n",
       "  <thead>\n",
       "    <tr style=\"text-align: right;\">\n",
       "      <th></th>\n",
       "      <th>test_accuracy</th>\n",
       "      <th>test_precision</th>\n",
       "      <th>test_recall</th>\n",
       "      <th>test_f1</th>\n",
       "    </tr>\n",
       "  </thead>\n",
       "  <tbody>\n",
       "    <tr>\n",
       "      <th>RF</th>\n",
       "      <td>0.992</td>\n",
       "      <td>0.995</td>\n",
       "      <td>0.969</td>\n",
       "      <td>0.982</td>\n",
       "    </tr>\n",
       "  </tbody>\n",
       "</table>\n",
       "</div>"
      ],
      "text/plain": [
       "    test_accuracy  test_precision  test_recall  test_f1\n",
       "RF          0.992           0.995        0.969    0.982"
      ]
     },
     "execution_count": 30,
     "metadata": {},
     "output_type": "execute_result"
    }
   ],
   "source": [
    "RF_results = pd.DataFrame(df_scores.mean()[2:], columns=[\"RF\"])\n",
    "RF_results.T"
   ]
  },
  {
   "cell_type": "code",
   "execution_count": 31,
   "metadata": {
    "execution": {
     "iopub.execute_input": "2022-11-03T12:40:43.355535Z",
     "iopub.status.busy": "2022-11-03T12:40:43.355229Z",
     "iopub.status.idle": "2022-11-03T12:40:43.599095Z",
     "shell.execute_reply": "2022-11-03T12:40:43.598609Z",
     "shell.execute_reply.started": "2022-11-03T12:40:43.355478Z"
    },
    "tags": []
   },
   "outputs": [
    {
     "data": {
      "image/png": "[encoded data removed]",
      "text/plain": [
       "<Figure size 800x550 with 1 Axes>"
      ]
     },
     "metadata": {},
     "output_type": "display_data"
    }
   ],
   "source": [
    "from yellowbrick.classifier import ROCAUC\n",
    "\n",
    "model = pipe_RF\n",
    "visualizer = ROCAUC(model)\n",
    "\n",
    "visualizer.fit(X_train, y_train)       \n",
    "visualizer.score(X_test, y_test)       \n",
    "visualizer.show();         "
   ]
  },
  {
   "cell_type": "code",
   "execution_count": 32,
   "metadata": {
    "execution": {
     "iopub.execute_input": "2022-11-03T12:40:43.600052Z",
     "iopub.status.busy": "2022-11-03T12:40:43.599856Z",
     "iopub.status.idle": "2022-11-03T12:40:43.614472Z",
     "shell.execute_reply": "2022-11-03T12:40:43.613668Z",
     "shell.execute_reply.started": "2022-11-03T12:40:43.600037Z"
    }
   },
   "outputs": [
    {
     "data": {
      "text/plain": [
       "array([0.00611773, 0.00097857, 0.01304363, 0.0081922 , 0.34134277,\n",
       "       0.12656571, 0.17986593, 0.14229349, 0.18159996])"
      ]
     },
     "execution_count": 32,
     "metadata": {},
     "output_type": "execute_result"
    }
   ],
   "source": [
    "pipe_RF[\"RF_model\"].feature_importances_ "
   ]
  },
  {
   "cell_type": "code",
   "execution_count": 33,
   "metadata": {
    "execution": {
     "iopub.execute_input": "2022-11-03T12:40:43.615970Z",
     "iopub.status.busy": "2022-11-03T12:40:43.615759Z",
     "iopub.status.idle": "2022-11-03T12:40:43.622255Z",
     "shell.execute_reply": "2022-11-03T12:40:43.621628Z",
     "shell.execute_reply.started": "2022-11-03T12:40:43.615935Z"
    },
    "tags": []
   },
   "outputs": [
    {
     "data": {
      "text/plain": [
       "Index(['satisfaction_level', 'last_evaluation', 'number_project',\n",
       "       'average_montly_hours', 'time_spend_company', 'Work_accident',\n",
       "       'promotion_last_5years', 'departments', 'salary'],\n",
       "      dtype='object')"
      ]
     },
     "execution_count": 33,
     "metadata": {},
     "output_type": "execute_result"
    }
   ],
   "source": [
    "X_train.columns"
   ]
  },
  {
   "cell_type": "code",
   "execution_count": 34,
   "metadata": {
    "execution": {
     "iopub.execute_input": "2022-11-03T12:40:43.623355Z",
     "iopub.status.busy": "2022-11-03T12:40:43.623172Z",
     "iopub.status.idle": "2022-11-03T12:40:43.633507Z",
     "shell.execute_reply": "2022-11-03T12:40:43.632908Z",
     "shell.execute_reply.started": "2022-11-03T12:40:43.623339Z"
    }
   },
   "outputs": [
    {
     "data": {
      "text/plain": [
       "['Work_accident',\n",
       " 'promotion_last_5years',\n",
       " 'departments',\n",
       " 'salary',\n",
       " 'satisfaction_level',\n",
       " 'last_evaluation',\n",
       " 'number_project',\n",
       " 'average_montly_hours',\n",
       " 'time_spend_company']"
      ]
     },
     "execution_count": 34,
     "metadata": {},
     "output_type": "execute_result"
    }
   ],
   "source": [
    "features = list(X_train[cat].columns) + list(X_train.drop(columns=cat).columns)\n",
    "features"
   ]
  },
  {
   "cell_type": "code",
   "execution_count": 35,
   "metadata": {
    "execution": {
     "iopub.execute_input": "2022-11-03T12:40:43.634654Z",
     "iopub.status.busy": "2022-11-03T12:40:43.634337Z",
     "iopub.status.idle": "2022-11-03T12:40:43.652014Z",
     "shell.execute_reply": "2022-11-03T12:40:43.651118Z",
     "shell.execute_reply.started": "2022-11-03T12:40:43.634619Z"
    },
    "tags": []
   },
   "outputs": [
    {
     "data": {
      "text/html": [
       "<div>\n",
       "<style scoped>\n",
       "    .dataframe tbody tr th:only-of-type {\n",
       "        vertical-align: middle;\n",
       "    }\n",
       "\n",
       "    .dataframe tbody tr th {\n",
       "        vertical-align: top;\n",
       "    }\n",
       "\n",
       "    .dataframe thead th {\n",
       "        text-align: right;\n",
       "    }\n",
       "</style>\n",
       "<table border=\"1\" class=\"dataframe\">\n",
       "  <thead>\n",
       "    <tr style=\"text-align: right;\">\n",
       "      <th></th>\n",
       "      <th>Feature Importance</th>\n",
       "    </tr>\n",
       "  </thead>\n",
       "  <tbody>\n",
       "    <tr>\n",
       "      <th>satisfaction_level</th>\n",
       "      <td>0.341</td>\n",
       "    </tr>\n",
       "    <tr>\n",
       "      <th>time_spend_company</th>\n",
       "      <td>0.182</td>\n",
       "    </tr>\n",
       "    <tr>\n",
       "      <th>number_project</th>\n",
       "      <td>0.180</td>\n",
       "    </tr>\n",
       "    <tr>\n",
       "      <th>average_montly_hours</th>\n",
       "      <td>0.142</td>\n",
       "    </tr>\n",
       "    <tr>\n",
       "      <th>last_evaluation</th>\n",
       "      <td>0.127</td>\n",
       "    </tr>\n",
       "    <tr>\n",
       "      <th>departments</th>\n",
       "      <td>0.013</td>\n",
       "    </tr>\n",
       "    <tr>\n",
       "      <th>salary</th>\n",
       "      <td>0.008</td>\n",
       "    </tr>\n",
       "    <tr>\n",
       "      <th>Work_accident</th>\n",
       "      <td>0.006</td>\n",
       "    </tr>\n",
       "    <tr>\n",
       "      <th>promotion_last_5years</th>\n",
       "      <td>0.001</td>\n",
       "    </tr>\n",
       "  </tbody>\n",
       "</table>\n",
       "</div>"
      ],
      "text/plain": [
       "                       Feature Importance\n",
       "satisfaction_level                  0.341\n",
       "time_spend_company                  0.182\n",
       "number_project                      0.180\n",
       "average_montly_hours                0.142\n",
       "last_evaluation                     0.127\n",
       "departments                         0.013\n",
       "salary                              0.008\n",
       "Work_accident                       0.006\n",
       "promotion_last_5years               0.001"
      ]
     },
     "execution_count": 35,
     "metadata": {},
     "output_type": "execute_result"
    }
   ],
   "source": [
    "rf_feature_imp = pd.DataFrame(data = pipe_RF[\"RF_model\"].feature_importances_, index = features, #index=X.columns\n",
    "                              columns = [\"Feature Importance\"]).sort_values(\"Feature Importance\", ascending = False)\n",
    "rf_feature_imp"
   ]
  },
  {
   "cell_type": "code",
   "execution_count": 36,
   "metadata": {
    "execution": {
     "iopub.execute_input": "2022-11-03T12:40:43.653367Z",
     "iopub.status.busy": "2022-11-03T12:40:43.653173Z",
     "iopub.status.idle": "2022-11-03T12:40:43.850012Z",
     "shell.execute_reply": "2022-11-03T12:40:43.849481Z",
     "shell.execute_reply.started": "2022-11-03T12:40:43.653332Z"
    },
    "tags": []
   },
   "outputs": [
    {
     "data": {
      "image/png": "[encoded data removed]",
      "text/plain": [
       "<Figure size 800x550 with 1 Axes>"
      ]
     },
     "metadata": {},
     "output_type": "display_data"
    }
   ],
   "source": [
    "ax = sns.barplot(x=rf_feature_imp[\"Feature Importance\"], y=rf_feature_imp.index)\n",
    "ax.bar_label(ax.containers[0],fmt=\"%.3f\")\n",
    "plt.title(\"Feature Importance for Random Forest\")\n",
    "plt.show()"
   ]
  },
  {
   "cell_type": "code",
   "execution_count": 37,
   "metadata": {
    "execution": {
     "iopub.execute_input": "2022-11-03T12:40:43.850659Z",
     "iopub.status.busy": "2022-11-03T12:40:43.850519Z",
     "iopub.status.idle": "2022-11-03T12:40:44.010813Z",
     "shell.execute_reply": "2022-11-03T12:40:44.010349Z",
     "shell.execute_reply.started": "2022-11-03T12:40:43.850621Z"
    },
    "tags": []
   },
   "outputs": [
    {
     "data": {
      "image/png": "[encoded data removed]",
      "text/plain": [
       "<Figure size 800x550 with 1 Axes>"
      ]
     },
     "metadata": {},
     "output_type": "display_data"
    }
   ],
   "source": [
    "from yellowbrick.model_selection import FeatureImportances\n",
    "\n",
    "model = pipe_RF[\"RF_model\"]\n",
    "viz = FeatureImportances(model, labels=features)\n",
    "viz.fit(X_train, y_train)\n",
    "viz.show();"
   ]
  },
  {
   "cell_type": "markdown",
   "metadata": {
    "id": "_BYTdWlr2soJ"
   },
   "source": [
    "#### Prediction"
   ]
  },
  {
   "cell_type": "code",
   "execution_count": 38,
   "metadata": {
    "execution": {
     "iopub.execute_input": "2022-11-03T12:40:44.011609Z",
     "iopub.status.busy": "2022-11-03T12:40:44.011456Z",
     "iopub.status.idle": "2022-11-03T12:40:44.021091Z",
     "shell.execute_reply": "2022-11-03T12:40:44.020568Z",
     "shell.execute_reply.started": "2022-11-03T12:40:44.011595Z"
    },
    "id": "9KT7jzZ-TgMe",
    "tags": []
   },
   "outputs": [
    {
     "data": {
      "text/html": [
       "<div>\n",
       "<style scoped>\n",
       "    .dataframe tbody tr th:only-of-type {\n",
       "        vertical-align: middle;\n",
       "    }\n",
       "\n",
       "    .dataframe tbody tr th {\n",
       "        vertical-align: top;\n",
       "    }\n",
       "\n",
       "    .dataframe thead th {\n",
       "        text-align: right;\n",
       "    }\n",
       "</style>\n",
       "<table border=\"1\" class=\"dataframe\">\n",
       "  <thead>\n",
       "    <tr style=\"text-align: right;\">\n",
       "      <th></th>\n",
       "      <th>satisfaction_level</th>\n",
       "      <th>last_evaluation</th>\n",
       "      <th>number_project</th>\n",
       "      <th>average_montly_hours</th>\n",
       "      <th>time_spend_company</th>\n",
       "      <th>Work_accident</th>\n",
       "      <th>left</th>\n",
       "      <th>promotion_last_5years</th>\n",
       "      <th>departments</th>\n",
       "      <th>salary</th>\n",
       "    </tr>\n",
       "  </thead>\n",
       "  <tbody>\n",
       "    <tr>\n",
       "      <th>9021</th>\n",
       "      <td>0.450</td>\n",
       "      <td>0.460</td>\n",
       "      <td>3</td>\n",
       "      <td>179</td>\n",
       "      <td>2</td>\n",
       "      <td>1</td>\n",
       "      <td>0</td>\n",
       "      <td>0</td>\n",
       "      <td>sales</td>\n",
       "      <td>low</td>\n",
       "    </tr>\n",
       "    <tr>\n",
       "      <th>3032</th>\n",
       "      <td>0.930</td>\n",
       "      <td>0.940</td>\n",
       "      <td>4</td>\n",
       "      <td>188</td>\n",
       "      <td>3</td>\n",
       "      <td>0</td>\n",
       "      <td>0</td>\n",
       "      <td>0</td>\n",
       "      <td>support</td>\n",
       "      <td>medium</td>\n",
       "    </tr>\n",
       "    <tr>\n",
       "      <th>7312</th>\n",
       "      <td>0.510</td>\n",
       "      <td>0.780</td>\n",
       "      <td>3</td>\n",
       "      <td>155</td>\n",
       "      <td>2</td>\n",
       "      <td>0</td>\n",
       "      <td>0</td>\n",
       "      <td>0</td>\n",
       "      <td>management</td>\n",
       "      <td>low</td>\n",
       "    </tr>\n",
       "    <tr>\n",
       "      <th>9471</th>\n",
       "      <td>0.520</td>\n",
       "      <td>0.740</td>\n",
       "      <td>3</td>\n",
       "      <td>160</td>\n",
       "      <td>2</td>\n",
       "      <td>0</td>\n",
       "      <td>0</td>\n",
       "      <td>0</td>\n",
       "      <td>marketing</td>\n",
       "      <td>high</td>\n",
       "    </tr>\n",
       "    <tr>\n",
       "      <th>13225</th>\n",
       "      <td>0.520</td>\n",
       "      <td>0.890</td>\n",
       "      <td>3</td>\n",
       "      <td>188</td>\n",
       "      <td>6</td>\n",
       "      <td>0</td>\n",
       "      <td>0</td>\n",
       "      <td>0</td>\n",
       "      <td>marketing</td>\n",
       "      <td>medium</td>\n",
       "    </tr>\n",
       "  </tbody>\n",
       "</table>\n",
       "</div>"
      ],
      "text/plain": [
       "       satisfaction_level  last_evaluation  number_project  \\\n",
       "9021                0.450            0.460               3   \n",
       "3032                0.930            0.940               4   \n",
       "7312                0.510            0.780               3   \n",
       "9471                0.520            0.740               3   \n",
       "13225               0.520            0.890               3   \n",
       "\n",
       "       average_montly_hours  time_spend_company  Work_accident  left  \\\n",
       "9021                    179                   2              1     0   \n",
       "3032                    188                   3              0     0   \n",
       "7312                    155                   2              0     0   \n",
       "9471                    160                   2              0     0   \n",
       "13225                   188                   6              0     0   \n",
       "\n",
       "       promotion_last_5years departments  salary  \n",
       "9021                       0       sales     low  \n",
       "3032                       0     support  medium  \n",
       "7312                       0  management     low  \n",
       "9471                       0   marketing    high  \n",
       "13225                      0   marketing  medium  "
      ]
     },
     "execution_count": 38,
     "metadata": {},
     "output_type": "execute_result"
    }
   ],
   "source": [
    "obs = df.sample(5)\n",
    "obs"
   ]
  },
  {
   "cell_type": "code",
   "execution_count": 39,
   "metadata": {
    "execution": {
     "iopub.execute_input": "2022-11-03T12:40:44.024565Z",
     "iopub.status.busy": "2022-11-03T12:40:44.024250Z",
     "iopub.status.idle": "2022-11-03T12:40:44.040377Z",
     "shell.execute_reply": "2022-11-03T12:40:44.039801Z",
     "shell.execute_reply.started": "2022-11-03T12:40:44.024541Z"
    },
    "tags": []
   },
   "outputs": [
    {
     "data": {
      "text/plain": [
       "array([0, 0, 0, 0, 0])"
      ]
     },
     "execution_count": 39,
     "metadata": {},
     "output_type": "execute_result"
    }
   ],
   "source": [
    "pipe_RF.predict(obs)"
   ]
  },
  {
   "cell_type": "code",
   "execution_count": 40,
   "metadata": {
    "execution": {
     "iopub.execute_input": "2022-11-03T12:40:44.041703Z",
     "iopub.status.busy": "2022-11-03T12:40:44.041478Z",
     "iopub.status.idle": "2022-11-03T12:40:44.059408Z",
     "shell.execute_reply": "2022-11-03T12:40:44.058662Z",
     "shell.execute_reply.started": "2022-11-03T12:40:44.041680Z"
    },
    "tags": []
   },
   "outputs": [],
   "source": [
    "import pickle\n",
    "pickle.dump(pipe_RF, open(\"Random_Forest\", 'wb'))"
   ]
  },
  {
   "cell_type": "code",
   "execution_count": 41,
   "metadata": {
    "execution": {
     "iopub.execute_input": "2022-11-03T12:40:44.060528Z",
     "iopub.status.busy": "2022-11-03T12:40:44.060368Z",
     "iopub.status.idle": "2022-11-03T12:40:44.070720Z",
     "shell.execute_reply": "2022-11-03T12:40:44.070100Z",
     "shell.execute_reply.started": "2022-11-03T12:40:44.060513Z"
    }
   },
   "outputs": [],
   "source": [
    "rf_model = pickle.load(open(\"Random_Forest\", 'rb'))"
   ]
  },
  {
   "cell_type": "code",
   "execution_count": 42,
   "metadata": {
    "execution": {
     "iopub.execute_input": "2022-11-03T12:40:44.072452Z",
     "iopub.status.busy": "2022-11-03T12:40:44.071710Z",
     "iopub.status.idle": "2022-11-03T12:40:44.092005Z",
     "shell.execute_reply": "2022-11-03T12:40:44.091500Z",
     "shell.execute_reply.started": "2022-11-03T12:40:44.072434Z"
    },
    "tags": []
   },
   "outputs": [
    {
     "name": "stdout",
     "output_type": "stream",
     "text": [
      "[0 1 0 1 0]\n"
     ]
    },
    {
     "data": {
      "text/html": [
       "<div>\n",
       "<style scoped>\n",
       "    .dataframe tbody tr th:only-of-type {\n",
       "        vertical-align: middle;\n",
       "    }\n",
       "\n",
       "    .dataframe tbody tr th {\n",
       "        vertical-align: top;\n",
       "    }\n",
       "\n",
       "    .dataframe thead th {\n",
       "        text-align: right;\n",
       "    }\n",
       "</style>\n",
       "<table border=\"1\" class=\"dataframe\">\n",
       "  <thead>\n",
       "    <tr style=\"text-align: right;\">\n",
       "      <th></th>\n",
       "      <th>satisfaction_level</th>\n",
       "      <th>last_evaluation</th>\n",
       "      <th>number_project</th>\n",
       "      <th>average_montly_hours</th>\n",
       "      <th>time_spend_company</th>\n",
       "      <th>Work_accident</th>\n",
       "      <th>left</th>\n",
       "      <th>promotion_last_5years</th>\n",
       "      <th>departments</th>\n",
       "      <th>salary</th>\n",
       "    </tr>\n",
       "  </thead>\n",
       "  <tbody>\n",
       "    <tr>\n",
       "      <th>6813</th>\n",
       "      <td>0.170</td>\n",
       "      <td>0.570</td>\n",
       "      <td>5</td>\n",
       "      <td>286</td>\n",
       "      <td>3</td>\n",
       "      <td>0</td>\n",
       "      <td>0</td>\n",
       "      <td>0</td>\n",
       "      <td>sales</td>\n",
       "      <td>low</td>\n",
       "    </tr>\n",
       "    <tr>\n",
       "      <th>14719</th>\n",
       "      <td>0.380</td>\n",
       "      <td>0.550</td>\n",
       "      <td>2</td>\n",
       "      <td>158</td>\n",
       "      <td>3</td>\n",
       "      <td>0</td>\n",
       "      <td>1</td>\n",
       "      <td>0</td>\n",
       "      <td>support</td>\n",
       "      <td>low</td>\n",
       "    </tr>\n",
       "    <tr>\n",
       "      <th>13125</th>\n",
       "      <td>0.930</td>\n",
       "      <td>0.640</td>\n",
       "      <td>4</td>\n",
       "      <td>253</td>\n",
       "      <td>3</td>\n",
       "      <td>0</td>\n",
       "      <td>0</td>\n",
       "      <td>0</td>\n",
       "      <td>RandD</td>\n",
       "      <td>low</td>\n",
       "    </tr>\n",
       "    <tr>\n",
       "      <th>12541</th>\n",
       "      <td>0.810</td>\n",
       "      <td>0.870</td>\n",
       "      <td>4</td>\n",
       "      <td>254</td>\n",
       "      <td>5</td>\n",
       "      <td>0</td>\n",
       "      <td>1</td>\n",
       "      <td>0</td>\n",
       "      <td>marketing</td>\n",
       "      <td>low</td>\n",
       "    </tr>\n",
       "    <tr>\n",
       "      <th>6367</th>\n",
       "      <td>0.440</td>\n",
       "      <td>0.440</td>\n",
       "      <td>3</td>\n",
       "      <td>126</td>\n",
       "      <td>2</td>\n",
       "      <td>0</td>\n",
       "      <td>0</td>\n",
       "      <td>0</td>\n",
       "      <td>hr</td>\n",
       "      <td>medium</td>\n",
       "    </tr>\n",
       "  </tbody>\n",
       "</table>\n",
       "</div>"
      ],
      "text/plain": [
       "       satisfaction_level  last_evaluation  number_project  \\\n",
       "6813                0.170            0.570               5   \n",
       "14719               0.380            0.550               2   \n",
       "13125               0.930            0.640               4   \n",
       "12541               0.810            0.870               4   \n",
       "6367                0.440            0.440               3   \n",
       "\n",
       "       average_montly_hours  time_spend_company  Work_accident  left  \\\n",
       "6813                    286                   3              0     0   \n",
       "14719                   158                   3              0     1   \n",
       "13125                   253                   3              0     0   \n",
       "12541                   254                   5              0     1   \n",
       "6367                    126                   2              0     0   \n",
       "\n",
       "       promotion_last_5years departments  salary  \n",
       "6813                       0       sales     low  \n",
       "14719                      0     support     low  \n",
       "13125                      0       RandD     low  \n",
       "12541                      0   marketing     low  \n",
       "6367                       0          hr  medium  "
      ]
     },
     "execution_count": 42,
     "metadata": {},
     "output_type": "execute_result"
    }
   ],
   "source": [
    "obs = df.sample(5)\n",
    "print(rf_model.predict(obs))\n",
    "obs"
   ]
  },
  {
   "cell_type": "markdown",
   "metadata": {
    "id": "Y4d55Vek2snX"
   },
   "source": [
    "### #XGBoost Classifier"
   ]
  },
  {
   "cell_type": "markdown",
   "metadata": {
    "id": "M4GifMUw2soL"
   },
   "source": [
    "#### Model Building"
   ]
  },
  {
   "cell_type": "code",
   "execution_count": null,
   "metadata": {
    "id": "uhjBZQbu2soN"
   },
   "outputs": [],
   "source": []
  },
  {
   "cell_type": "markdown",
   "metadata": {
    "id": "xRUPvrME2soc"
   },
   "source": [
    "#### Evaluating Model Performance and Tuning"
   ]
  },
  {
   "cell_type": "code",
   "execution_count": null,
   "metadata": {
    "id": "tXKuonpN2soe"
   },
   "outputs": [],
   "source": []
  },
  {
   "cell_type": "markdown",
   "metadata": {
    "id": "SKLtTwJ82som"
   },
   "source": [
    "#### Prediction"
   ]
  },
  {
   "cell_type": "code",
   "execution_count": null,
   "metadata": {
    "id": "QdFUSrml2sop"
   },
   "outputs": [],
   "source": []
  },
  {
   "cell_type": "markdown",
   "metadata": {
    "id": "zrozB3YHQYJq"
   },
   "source": [
    "### #ANN Classifier"
   ]
  },
  {
   "cell_type": "markdown",
   "metadata": {
    "id": "GUTIjKF3QYJq"
   },
   "source": [
    "#### Layer Architecture Building and Compiling"
   ]
  },
  {
   "cell_type": "code",
   "execution_count": null,
   "metadata": {
    "id": "eDADaqNyQYJr"
   },
   "outputs": [],
   "source": []
  },
  {
   "cell_type": "markdown",
   "metadata": {
    "id": "r8IcTlRxQYJr"
   },
   "source": [
    "#### Evaluating Model Performance and Tunning"
   ]
  },
  {
   "cell_type": "code",
   "execution_count": null,
   "metadata": {
    "id": "Wp8EjPhsQYJs"
   },
   "outputs": [],
   "source": []
  },
  {
   "cell_type": "markdown",
   "metadata": {
    "id": "EODePC1MQYJt"
   },
   "source": [
    "#### Prediction"
   ]
  },
  {
   "cell_type": "code",
   "execution_count": null,
   "metadata": {
    "id": "G1YyfoKEQYJt"
   },
   "outputs": [],
   "source": []
  },
  {
   "cell_type": "markdown",
   "metadata": {
    "id": "Hv7E8XsazFMM"
   },
   "source": [
    "## 6. Model Deployement\n",
    "\n",
    "You cooked the food in the kitchen and moved on to the serving stage. The question is how do you showcase your work to others? Model Deployement helps you showcase your work to the world and make better decisions with it. But, deploying a model can get a little tricky at times. Before deploying the model, many things such as data storage, preprocessing, model building and monitoring need to be studied. Streamlit is a popular open source framework used by data scientists for model distribution.\n",
    "\n",
    "Deployment of machine learning models, means making your models available to your other business systems. By deploying models, other systems can send data to them and get their predictions, which are in turn populated back into the company systems. Through machine learning model deployment, can begin to take full advantage of the model you built.\n",
    "\n",
    "Data science is concerned with how to build machine learning models, which algorithm is more predictive, how to design features, and what variables to use to make the models more accurate. However, how these models are actually used is often neglected. And yet this is the most important step in the machine learning pipline. Only when a model is fully integrated with the business systems, real values ​​can be extract from its predictions.\n",
    "\n",
    "After doing the following operations in this notebook, jump to new .py file and create your web app with Streamlit."
   ]
  },
  {
   "cell_type": "markdown",
   "metadata": {
    "id": "m5pwXBOkJPeM"
   },
   "source": [
    "### Save and Export the Model"
   ]
  },
  {
   "cell_type": "markdown",
   "metadata": {
    "id": "r7sGSN6RJR6V"
   },
   "source": [
    "### Save and Export Variables\n"
   ]
  },
  {
   "cell_type": "markdown",
   "metadata": {
    "id": "aD6JV41czCKr"
   },
   "source": [
    "___\n",
    "\n",
    "<p style=\"text-align: center;\"><img src=\"https://docs.google.com/uc?id=1lY0Uj5R04yMY3-ZppPWxqCr5pvBLYPnV\" class=\"img-fluid\" alt=\"CLRSWY\"></p>\n",
    "\n",
    "___"
   ]
  }
 ],
 "metadata": {
  "colab": {
   "collapsed_sections": [],
   "provenance": []
  },
  "kernelspec": {
   "display_name": "Python 3 (ipykernel)",
   "language": "python",
   "name": "python3"
  },
  "language_info": {
   "codemirror_mode": {
    "name": "ipython",
    "version": 3
   },
   "file_extension": ".py",
   "mimetype": "text/x-python",
   "name": "python",
   "nbconvert_exporter": "python",
   "pygments_lexer": "ipython3",
   "version": "3.9.13"
  },
  "vscode": {
   "interpreter": {
    "hash": "b91502e98c93ec413571a3c4a71c4e7e2f090119475bdef759aa0802c5125d05"
   }
  }
 },
 "nbformat": 4,
 "nbformat_minor": 4
}
